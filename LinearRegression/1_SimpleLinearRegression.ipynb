{
 "cells": [
  {
   "attachments": {},
   "cell_type": "markdown",
   "metadata": {},
   "source": [
    "@Author: Bhupinder Singh\n",
    "\n",
    "@Date: 07-01-2023\n",
    "\n",
    "@Last Modified by: Bhupinder Singh\n",
    "\n",
    "@Last Modified date: 10-01-2023\n",
    "\n",
    "@Title: Write a Python program to implement Linear Regression Model by using Cost function and Gradient Descent Function"
   ]
  },
  {
   "cell_type": "code",
   "execution_count": 414,
   "metadata": {
    "executionInfo": {
     "elapsed": 640,
     "status": "ok",
     "timestamp": 1658152552183,
     "user": {
      "displayName": "Akash Halder",
      "userId": "10990951973708221002"
     },
     "user_tz": -330
    },
    "id": "8J0KLNVGfD9a",
    "pycharm": {
     "name": "#%%\n"
    }
   },
   "outputs": [],
   "source": [
    "import numpy as np\n",
    "import matplotlib.pyplot as plt\n",
    "import pandas as pd\n",
    "from csv import reader\n",
    "import seaborn as sns\n",
    "import math\n",
    "import operator\n",
    "from array import *\n",
    "from scipy import stats"
   ]
  },
  {
   "attachments": {},
   "cell_type": "markdown",
   "metadata": {},
   "source": [
    "### Import the dataset "
   ]
  },
  {
   "cell_type": "code",
   "execution_count": 415,
   "metadata": {},
   "outputs": [],
   "source": [
    "data = pd.read_csv('train.csv')"
   ]
  },
  {
   "attachments": {},
   "cell_type": "markdown",
   "metadata": {},
   "source": [
    "### Getting Insights of dataset"
   ]
  },
  {
   "cell_type": "code",
   "execution_count": 416,
   "metadata": {},
   "outputs": [
    {
     "name": "stdout",
     "output_type": "stream",
     "text": [
      "<class 'pandas.core.frame.DataFrame'>\n",
      "RangeIndex: 700 entries, 0 to 699\n",
      "Data columns (total 2 columns):\n",
      " #   Column  Non-Null Count  Dtype  \n",
      "---  ------  --------------  -----  \n",
      " 0   x       700 non-null    float64\n",
      " 1   y       699 non-null    float64\n",
      "dtypes: float64(2)\n",
      "memory usage: 11.1 KB\n"
     ]
    }
   ],
   "source": [
    "data.info()"
   ]
  },
  {
   "cell_type": "code",
   "execution_count": 417,
   "metadata": {},
   "outputs": [
    {
     "data": {
      "text/html": [
       "<div>\n",
       "<style scoped>\n",
       "    .dataframe tbody tr th:only-of-type {\n",
       "        vertical-align: middle;\n",
       "    }\n",
       "\n",
       "    .dataframe tbody tr th {\n",
       "        vertical-align: top;\n",
       "    }\n",
       "\n",
       "    .dataframe thead th {\n",
       "        text-align: right;\n",
       "    }\n",
       "</style>\n",
       "<table border=\"1\" class=\"dataframe\">\n",
       "  <thead>\n",
       "    <tr style=\"text-align: right;\">\n",
       "      <th></th>\n",
       "      <th>x</th>\n",
       "      <th>y</th>\n",
       "    </tr>\n",
       "  </thead>\n",
       "  <tbody>\n",
       "    <tr>\n",
       "      <th>count</th>\n",
       "      <td>700.000000</td>\n",
       "      <td>699.000000</td>\n",
       "    </tr>\n",
       "    <tr>\n",
       "      <th>mean</th>\n",
       "      <td>54.985939</td>\n",
       "      <td>49.939869</td>\n",
       "    </tr>\n",
       "    <tr>\n",
       "      <th>std</th>\n",
       "      <td>134.681703</td>\n",
       "      <td>29.109217</td>\n",
       "    </tr>\n",
       "    <tr>\n",
       "      <th>min</th>\n",
       "      <td>0.000000</td>\n",
       "      <td>-3.839981</td>\n",
       "    </tr>\n",
       "    <tr>\n",
       "      <th>25%</th>\n",
       "      <td>25.000000</td>\n",
       "      <td>24.929968</td>\n",
       "    </tr>\n",
       "    <tr>\n",
       "      <th>50%</th>\n",
       "      <td>49.000000</td>\n",
       "      <td>48.973020</td>\n",
       "    </tr>\n",
       "    <tr>\n",
       "      <th>75%</th>\n",
       "      <td>75.000000</td>\n",
       "      <td>74.929911</td>\n",
       "    </tr>\n",
       "    <tr>\n",
       "      <th>max</th>\n",
       "      <td>3530.157369</td>\n",
       "      <td>108.871618</td>\n",
       "    </tr>\n",
       "  </tbody>\n",
       "</table>\n",
       "</div>"
      ],
      "text/plain": [
       "                 x           y\n",
       "count   700.000000  699.000000\n",
       "mean     54.985939   49.939869\n",
       "std     134.681703   29.109217\n",
       "min       0.000000   -3.839981\n",
       "25%      25.000000   24.929968\n",
       "50%      49.000000   48.973020\n",
       "75%      75.000000   74.929911\n",
       "max    3530.157369  108.871618"
      ]
     },
     "execution_count": 417,
     "metadata": {},
     "output_type": "execute_result"
    }
   ],
   "source": [
    "data.describe()"
   ]
  },
  {
   "attachments": {},
   "cell_type": "markdown",
   "metadata": {},
   "source": [
    "### Checking for Null values in data set"
   ]
  },
  {
   "cell_type": "code",
   "execution_count": 418,
   "metadata": {},
   "outputs": [
    {
     "data": {
      "text/plain": [
       "x    0\n",
       "y    1\n",
       "dtype: int64"
      ]
     },
     "execution_count": 418,
     "metadata": {},
     "output_type": "execute_result"
    }
   ],
   "source": [
    "data.isnull().sum()"
   ]
  },
  {
   "attachments": {},
   "cell_type": "markdown",
   "metadata": {},
   "source": [
    "### Seeing the distribution of 'y' feature"
   ]
  },
  {
   "cell_type": "code",
   "execution_count": 419,
   "metadata": {},
   "outputs": [
    {
     "name": "stderr",
     "output_type": "stream",
     "text": [
      "C:\\Users\\Asus\\AppData\\Local\\Temp\\ipykernel_29364\\759327198.py:2: UserWarning: \n",
      "\n",
      "`distplot` is a deprecated function and will be removed in seaborn v0.14.0.\n",
      "\n",
      "Please adapt your code to use either `displot` (a figure-level function with\n",
      "similar flexibility) or `histplot` (an axes-level function for histograms).\n",
      "\n",
      "For a guide to updating your code to use the new functions, please see\n",
      "https://gist.github.com/mwaskom/de44147ed2974457ad6372750bbe5751\n",
      "\n",
      "  sns.distplot(data['y'],color='green')\n"
     ]
    },
    {
     "data": {
      "text/plain": [
       "<AxesSubplot: xlabel='y', ylabel='Density'>"
      ]
     },
     "execution_count": 419,
     "metadata": {},
     "output_type": "execute_result"
    },
    {
     "data": {
      "image/png": "[encoded data removed]",
      "text/plain": [
       "<Figure size 640x480 with 1 Axes>"
      ]
     },
     "metadata": {},
     "output_type": "display_data"
    }
   ],
   "source": [
    "sns.set(style='darkgrid')\n",
    "sns.distplot(data['y'],color='green')"
   ]
  },
  {
   "attachments": {},
   "cell_type": "markdown",
   "metadata": {},
   "source": [
    "### Seeing the distribution of 'x' feature"
   ]
  },
  {
   "cell_type": "code",
   "execution_count": 420,
   "metadata": {},
   "outputs": [
    {
     "name": "stderr",
     "output_type": "stream",
     "text": [
      "C:\\Users\\Asus\\AppData\\Local\\Temp\\ipykernel_29364\\2591545795.py:2: UserWarning: \n",
      "\n",
      "`distplot` is a deprecated function and will be removed in seaborn v0.14.0.\n",
      "\n",
      "Please adapt your code to use either `displot` (a figure-level function with\n",
      "similar flexibility) or `histplot` (an axes-level function for histograms).\n",
      "\n",
      "For a guide to updating your code to use the new functions, please see\n",
      "https://gist.github.com/mwaskom/de44147ed2974457ad6372750bbe5751\n",
      "\n",
      "  sns.distplot(data['x'],color='green')\n"
     ]
    },
    {
     "data": {
      "text/plain": [
       "<AxesSubplot: xlabel='x', ylabel='Density'>"
      ]
     },
     "execution_count": 420,
     "metadata": {},
     "output_type": "execute_result"
    },
    {
     "data": {
      "image/png": "[encoded data removed]",
      "text/plain": [
       "<Figure size 640x480 with 1 Axes>"
      ]
     },
     "metadata": {},
     "output_type": "display_data"
    }
   ],
   "source": [
    "sns.set(style='darkgrid')\n",
    "sns.distplot(data['x'],color='green')"
   ]
  },
  {
   "attachments": {},
   "cell_type": "markdown",
   "metadata": {},
   "source": [
    "### Checking for outliers"
   ]
  },
  {
   "cell_type": "code",
   "execution_count": 421,
   "metadata": {},
   "outputs": [
    {
     "data": {
      "text/plain": [
       "<AxesSubplot: xlabel='x'>"
      ]
     },
     "execution_count": 421,
     "metadata": {},
     "output_type": "execute_result"
    },
    {
     "data": {
      "image/png": "[encoded data removed]",
      "text/plain": [
       "<Figure size 640x480 with 1 Axes>"
      ]
     },
     "metadata": {},
     "output_type": "display_data"
    }
   ],
   "source": [
    "sns.boxplot(x=data[\"x\"])"
   ]
  },
  {
   "cell_type": "code",
   "execution_count": 422,
   "metadata": {},
   "outputs": [
    {
     "data": {
      "text/plain": [
       "<AxesSubplot: xlabel='y'>"
      ]
     },
     "execution_count": 422,
     "metadata": {},
     "output_type": "execute_result"
    },
    {
     "data": {
      "image/png": "[encoded data removed]",
      "text/plain": [
       "<Figure size 640x480 with 1 Axes>"
      ]
     },
     "metadata": {},
     "output_type": "display_data"
    }
   ],
   "source": [
    "sns.boxplot(x=data[\"y\"])"
   ]
  },
  {
   "attachments": {},
   "cell_type": "markdown",
   "metadata": {},
   "source": [
    "### Handling Missing Values"
   ]
  },
  {
   "cell_type": "code",
   "execution_count": 423,
   "metadata": {},
   "outputs": [
    {
     "data": {
      "text/plain": [
       "(700, 2)"
      ]
     },
     "execution_count": 423,
     "metadata": {},
     "output_type": "execute_result"
    }
   ],
   "source": [
    "data['y']=data[\"y\"].fillna(data[\"y\"].mean())\n",
    "data.shape"
   ]
  },
  {
   "cell_type": "code",
   "execution_count": 424,
   "metadata": {},
   "outputs": [
    {
     "data": {
      "text/html": [
       "<div>\n",
       "<style scoped>\n",
       "    .dataframe tbody tr th:only-of-type {\n",
       "        vertical-align: middle;\n",
       "    }\n",
       "\n",
       "    .dataframe tbody tr th {\n",
       "        vertical-align: top;\n",
       "    }\n",
       "\n",
       "    .dataframe thead th {\n",
       "        text-align: right;\n",
       "    }\n",
       "</style>\n",
       "<table border=\"1\" class=\"dataframe\">\n",
       "  <thead>\n",
       "    <tr style=\"text-align: right;\">\n",
       "      <th></th>\n",
       "      <th>x</th>\n",
       "      <th>y</th>\n",
       "      <th>zscore_x</th>\n",
       "    </tr>\n",
       "  </thead>\n",
       "  <tbody>\n",
       "    <tr>\n",
       "      <th>0</th>\n",
       "      <td>24.0</td>\n",
       "      <td>21.549452</td>\n",
       "      <td>-0.230068</td>\n",
       "    </tr>\n",
       "    <tr>\n",
       "      <th>1</th>\n",
       "      <td>50.0</td>\n",
       "      <td>47.464463</td>\n",
       "      <td>-0.037020</td>\n",
       "    </tr>\n",
       "    <tr>\n",
       "      <th>2</th>\n",
       "      <td>15.0</td>\n",
       "      <td>17.218656</td>\n",
       "      <td>-0.296892</td>\n",
       "    </tr>\n",
       "    <tr>\n",
       "      <th>3</th>\n",
       "      <td>38.0</td>\n",
       "      <td>36.586398</td>\n",
       "      <td>-0.126119</td>\n",
       "    </tr>\n",
       "    <tr>\n",
       "      <th>4</th>\n",
       "      <td>87.0</td>\n",
       "      <td>87.288984</td>\n",
       "      <td>0.237702</td>\n",
       "    </tr>\n",
       "  </tbody>\n",
       "</table>\n",
       "</div>"
      ],
      "text/plain": [
       "      x          y  zscore_x\n",
       "0  24.0  21.549452 -0.230068\n",
       "1  50.0  47.464463 -0.037020\n",
       "2  15.0  17.218656 -0.296892\n",
       "3  38.0  36.586398 -0.126119\n",
       "4  87.0  87.288984  0.237702"
      ]
     },
     "execution_count": 424,
     "metadata": {},
     "output_type": "execute_result"
    }
   ],
   "source": [
    "data['zscore_x'] = ( data.x - data.x.mean() ) / data.x.std()\n",
    "data.head(5)"
   ]
  },
  {
   "cell_type": "code",
   "execution_count": 425,
   "metadata": {},
   "outputs": [
    {
     "data": {
      "text/html": [
       "<div>\n",
       "<style scoped>\n",
       "    .dataframe tbody tr th:only-of-type {\n",
       "        vertical-align: middle;\n",
       "    }\n",
       "\n",
       "    .dataframe tbody tr th {\n",
       "        vertical-align: top;\n",
       "    }\n",
       "\n",
       "    .dataframe thead th {\n",
       "        text-align: right;\n",
       "    }\n",
       "</style>\n",
       "<table border=\"1\" class=\"dataframe\">\n",
       "  <thead>\n",
       "    <tr style=\"text-align: right;\">\n",
       "      <th></th>\n",
       "      <th>x</th>\n",
       "      <th>y</th>\n",
       "      <th>zscore_x</th>\n",
       "    </tr>\n",
       "  </thead>\n",
       "  <tbody>\n",
       "    <tr>\n",
       "      <th>213</th>\n",
       "      <td>3530.157369</td>\n",
       "      <td>49.939869</td>\n",
       "      <td>25.802847</td>\n",
       "    </tr>\n",
       "  </tbody>\n",
       "</table>\n",
       "</div>"
      ],
      "text/plain": [
       "               x          y   zscore_x\n",
       "213  3530.157369  49.939869  25.802847"
      ]
     },
     "execution_count": 425,
     "metadata": {},
     "output_type": "execute_result"
    }
   ],
   "source": [
    "data[(data.zscore_x<-3) | (data.zscore_x>3)]"
   ]
  },
  {
   "attachments": {},
   "cell_type": "markdown",
   "metadata": {},
   "source": [
    "### Removing Outliers"
   ]
  },
  {
   "cell_type": "code",
   "execution_count": 426,
   "metadata": {},
   "outputs": [
    {
     "data": {
      "text/html": [
       "<div>\n",
       "<style scoped>\n",
       "    .dataframe tbody tr th:only-of-type {\n",
       "        vertical-align: middle;\n",
       "    }\n",
       "\n",
       "    .dataframe tbody tr th {\n",
       "        vertical-align: top;\n",
       "    }\n",
       "\n",
       "    .dataframe thead th {\n",
       "        text-align: right;\n",
       "    }\n",
       "</style>\n",
       "<table border=\"1\" class=\"dataframe\">\n",
       "  <thead>\n",
       "    <tr style=\"text-align: right;\">\n",
       "      <th></th>\n",
       "      <th>x</th>\n",
       "      <th>y</th>\n",
       "      <th>zscore_x</th>\n",
       "    </tr>\n",
       "  </thead>\n",
       "  <tbody>\n",
       "    <tr>\n",
       "      <th>0</th>\n",
       "      <td>24.0</td>\n",
       "      <td>21.549452</td>\n",
       "      <td>-0.230068</td>\n",
       "    </tr>\n",
       "    <tr>\n",
       "      <th>1</th>\n",
       "      <td>50.0</td>\n",
       "      <td>47.464463</td>\n",
       "      <td>-0.037020</td>\n",
       "    </tr>\n",
       "    <tr>\n",
       "      <th>2</th>\n",
       "      <td>15.0</td>\n",
       "      <td>17.218656</td>\n",
       "      <td>-0.296892</td>\n",
       "    </tr>\n",
       "    <tr>\n",
       "      <th>3</th>\n",
       "      <td>38.0</td>\n",
       "      <td>36.586398</td>\n",
       "      <td>-0.126119</td>\n",
       "    </tr>\n",
       "    <tr>\n",
       "      <th>4</th>\n",
       "      <td>87.0</td>\n",
       "      <td>87.288984</td>\n",
       "      <td>0.237702</td>\n",
       "    </tr>\n",
       "  </tbody>\n",
       "</table>\n",
       "</div>"
      ],
      "text/plain": [
       "      x          y  zscore_x\n",
       "0  24.0  21.549452 -0.230068\n",
       "1  50.0  47.464463 -0.037020\n",
       "2  15.0  17.218656 -0.296892\n",
       "3  38.0  36.586398 -0.126119\n",
       "4  87.0  87.288984  0.237702"
      ]
     },
     "execution_count": 426,
     "metadata": {},
     "output_type": "execute_result"
    }
   ],
   "source": [
    "data= data[(data.zscore_x>-3) & (data.zscore_x<3)]\n",
    "data.head()"
   ]
  },
  {
   "cell_type": "code",
   "execution_count": 427,
   "metadata": {},
   "outputs": [
    {
     "data": {
      "text/plain": [
       "<AxesSubplot: xlabel='x'>"
      ]
     },
     "execution_count": 427,
     "metadata": {},
     "output_type": "execute_result"
    },
    {
     "data": {
      "image/png": "[encoded data removed]",
      "text/plain": [
       "<Figure size 640x480 with 1 Axes>"
      ]
     },
     "metadata": {},
     "output_type": "display_data"
    }
   ],
   "source": [
    "sns.boxplot(x=data[\"x\"])"
   ]
  },
  {
   "attachments": {},
   "cell_type": "markdown",
   "metadata": {},
   "source": [
    "### Featue Scaling"
   ]
  },
  {
   "cell_type": "code",
   "execution_count": 428,
   "metadata": {},
   "outputs": [],
   "source": [
    "def feature_standarization(data_frame,col_name):\n",
    "    standarized_output = []\n",
    "    for i in data_frame[col_name]:\n",
    "        standarized_value = (i - data_frame[col_name].mean())/data_frame[col_name].std()\n",
    "        standarized_output.append(standarized_value)\n",
    "    return standarized_output"
   ]
  },
  {
   "cell_type": "code",
   "execution_count": 429,
   "metadata": {},
   "outputs": [],
   "source": [
    "x_list = feature_standarization(data,'x')\n",
    "y_list = feature_standarization(data,'y')\n",
    "data.drop(['x','y'],axis=1,inplace=True)\n",
    "data.insert(loc=0, column=\"x\", value=x_list)\n",
    "data.insert(loc=1, column=\"y\", value=y_list)"
   ]
  },
  {
   "cell_type": "code",
   "execution_count": 430,
   "metadata": {},
   "outputs": [
    {
     "data": {
      "text/html": [
       "<div>\n",
       "<style scoped>\n",
       "    .dataframe tbody tr th:only-of-type {\n",
       "        vertical-align: middle;\n",
       "    }\n",
       "\n",
       "    .dataframe tbody tr th {\n",
       "        vertical-align: top;\n",
       "    }\n",
       "\n",
       "    .dataframe thead th {\n",
       "        text-align: right;\n",
       "    }\n",
       "</style>\n",
       "<table border=\"1\" class=\"dataframe\">\n",
       "  <thead>\n",
       "    <tr style=\"text-align: right;\">\n",
       "      <th></th>\n",
       "      <th>x</th>\n",
       "      <th>y</th>\n",
       "      <th>zscore_x</th>\n",
       "    </tr>\n",
       "  </thead>\n",
       "  <tbody>\n",
       "    <tr>\n",
       "      <th>0</th>\n",
       "      <td>-0.898453</td>\n",
       "      <td>-0.975307</td>\n",
       "      <td>-0.230068</td>\n",
       "    </tr>\n",
       "    <tr>\n",
       "      <th>1</th>\n",
       "      <td>-0.000494</td>\n",
       "      <td>-0.085039</td>\n",
       "      <td>-0.037020</td>\n",
       "    </tr>\n",
       "    <tr>\n",
       "      <th>2</th>\n",
       "      <td>-1.209285</td>\n",
       "      <td>-1.124084</td>\n",
       "      <td>-0.296892</td>\n",
       "    </tr>\n",
       "    <tr>\n",
       "      <th>3</th>\n",
       "      <td>-0.414937</td>\n",
       "      <td>-0.458737</td>\n",
       "      <td>-0.126119</td>\n",
       "    </tr>\n",
       "    <tr>\n",
       "      <th>4</th>\n",
       "      <td>1.277370</td>\n",
       "      <td>1.283068</td>\n",
       "      <td>0.237702</td>\n",
       "    </tr>\n",
       "  </tbody>\n",
       "</table>\n",
       "</div>"
      ],
      "text/plain": [
       "          x         y  zscore_x\n",
       "0 -0.898453 -0.975307 -0.230068\n",
       "1 -0.000494 -0.085039 -0.037020\n",
       "2 -1.209285 -1.124084 -0.296892\n",
       "3 -0.414937 -0.458737 -0.126119\n",
       "4  1.277370  1.283068  0.237702"
      ]
     },
     "execution_count": 430,
     "metadata": {},
     "output_type": "execute_result"
    }
   ],
   "source": [
    "data.head()"
   ]
  },
  {
   "attachments": {},
   "cell_type": "markdown",
   "metadata": {},
   "source": [
    "### Compute the cost function J(theta)  \n",
    "j(theta)= 1/2m (summation(h(x)- y)**2)\n",
    "\n",
    "1/m - means we determine the average\n",
    "\n",
    "1/2m the 2 makes the math a bit easier\n"
   ]
  },
  {
   "cell_type": "code",
   "execution_count": 431,
   "metadata": {},
   "outputs": [],
   "source": [
    "def computeCost(x_train,y_train,theta):\n",
    "    \"\"\"\n",
    "    Description:\n",
    "            generate the cost function of using theta as parameter in a linear regression model\n",
    "    Parameter:\n",
    "        x_train: x values from train dataset\n",
    "        y_train: y values from train dataset\n",
    "        theta: theta values from gradient descent function\n",
    "    Return:\n",
    "            Returns computed cost\n",
    "    \"\"\"\n",
    "    square_err=(x_train.dot(theta) - y_train)**2\n",
    "    \n",
    "    return 1/(2*len(x_train)) * np.sum(square_err)"
   ]
  },
  {
   "attachments": {},
   "cell_type": "markdown",
   "metadata": {},
   "source": [
    "### Initialize X,y and compute the cost."
   ]
  },
  {
   "cell_type": "code",
   "execution_count": 432,
   "metadata": {},
   "outputs": [
    {
     "data": {
      "text/plain": [
       "0.49928469241773965"
      ]
     },
     "execution_count": 432,
     "metadata": {},
     "output_type": "execute_result"
    }
   ],
   "source": [
    "data_n=data.values\n",
    "m=len(data_n[:,-1])  # Size of column X\n",
    "x_train=np.append(np.ones((m,1)),data_n[:,0].reshape(m,1),axis=1)\n",
    "y_train=data_n[:,1].reshape(m,1)\n",
    "theta=np.zeros((2,1)) \n",
    "computeCost(x_train,y_train,theta)"
   ]
  },
  {
   "cell_type": "code",
   "execution_count": 433,
   "metadata": {},
   "outputs": [
    {
     "name": "stdout",
     "output_type": "stream",
     "text": [
      "(699, 2)\n",
      "(699, 1)\n"
     ]
    }
   ],
   "source": [
    "print(x_train.shape)\n",
    "print(y_train.shape)"
   ]
  },
  {
   "attachments": {},
   "cell_type": "markdown",
   "metadata": {},
   "source": [
    "### Implement gradient descent to optimize theta, by minimizing the cost function J(theta)\n",
    "\n",
    "theta(j) = theta(j)- alpha(derivative(j(theta 0,theta 1)))"
   ]
  },
  {
   "cell_type": "code",
   "execution_count": 434,
   "metadata": {},
   "outputs": [],
   "source": [
    "def gradientDescent(x_train,y_train,theta,alpha,num_iters):\n",
    "    \"\"\"\n",
    "    Description:\n",
    "            update theta by taking   num_iters gradient steps with learning rate of alpha\n",
    "    Parameter:\n",
    "        X: x values from train dataset\n",
    "        y: y values from train dataset\n",
    "        theta: initial theta values \n",
    "        alpha: learning rate\n",
    "        num_iters: Number of epochs\n",
    "    Return:\n",
    "            Returns the computed theta and cost function value\n",
    "    \"\"\"\n",
    "    J_history=[]\n",
    "    \n",
    "    for i in range(num_iters):\n",
    "        theta-=alpha * 1/len(x_train) * np.dot(x_train.transpose(),(x_train.dot(theta) -y_train))\n",
    "        cost= computeCost(x_train,y_train,theta)\n",
    "        J_history.append(cost)\n",
    "        print(f\"For Epoch {i} Theta :{theta} Cost = {cost}\")\n",
    "    return theta,J_history"
   ]
  },
  {
   "cell_type": "code",
   "execution_count": 435,
   "metadata": {},
   "outputs": [
    {
     "name": "stdout",
     "output_type": "stream",
     "text": [
      "For Epoch 0 Theta :[[-2.45551473e-18]\n",
      " [ 9.93915959e-03]] Cost = 0.48945532585882484\n",
      "For Epoch 1 Theta :[[-4.76172908e-18]\n",
      " [ 1.97790698e-02]] Cost = 0.47982128526401185\n",
      "For Epoch 2 Theta :[[-7.02664758e-18]\n",
      " [ 2.95207216e-02]] Cost = 0.47037868917949327\n",
      "For Epoch 3 Theta :[[-9.47898571e-18]\n",
      " [ 3.91650963e-02]] Cost = 0.46112373328244527\n",
      "For Epoch 4 Theta :[[-1.13182393e-17]\n",
      " [ 4.87131653e-02]] Cost = 0.45205268884830535\n",
      "For Epoch 5 Theta :[[-1.38436393e-17]\n",
      " [ 5.81658901e-02]] Cost = 0.44316190124850857\n",
      "For Epoch 6 Theta :[[-1.65755186e-17]\n",
      " [ 6.75242229e-02]] Cost = 0.43444778847807586\n",
      "For Epoch 7 Theta :[[-1.88849095e-17]\n",
      " [ 7.67891063e-02]] Cost = 0.4259068397124622\n",
      "For Epoch 8 Theta :[[-2.14865480e-17]\n",
      " [ 8.59614734e-02]] Cost = 0.41753561389308186\n",
      "For Epoch 9 Theta :[[-2.36561684e-17]\n",
      " [ 9.50422480e-02]] Cost = 0.4093307383409423\n",
      "For Epoch 10 Theta :[[-2.60354447e-17]\n",
      " [ 1.04032345e-01]] Cost = 0.40128890739782724\n",
      "For Epoch 11 Theta :[[-2.82749503e-17]\n",
      " [ 1.12932669e-01]] Cost = 0.39340688109448135\n",
      "For Epoch 12 Theta :[[-3.02762107e-17]\n",
      " [ 1.21744118e-01]] Cost = 0.38568148384526113\n",
      "For Epoch 13 Theta :[[-3.26681934e-17]\n",
      " [ 1.30467578e-01]] Cost = 0.37810960316872416\n",
      "For Epoch 14 Theta :[[-3.46503941e-17]\n",
      " [ 1.39103928e-01]] Cost = 0.3706881884336436\n",
      "For Epoch 15 Theta :[[-3.68771934e-17]\n",
      " [ 1.47654039e-01]] Cost = 0.3634142496299406\n",
      "For Epoch 16 Theta :[[-3.92278802e-17]\n",
      " [ 1.56118770e-01]] Cost = 0.35628485616404093\n",
      "For Epoch 17 Theta :[[-4.13593813e-17]\n",
      " [ 1.64498976e-01]] Cost = 0.34929713567816906\n",
      "For Epoch 18 Theta :[[-4.32812266e-17]\n",
      " [ 1.72795499e-01]] Cost = 0.3424482728931058\n",
      "For Epoch 19 Theta :[[-4.51045972e-17]\n",
      " [ 1.81009175e-01]] Cost = 0.3357355084739418\n",
      "For Epoch 20 Theta :[[-4.69343210e-17]\n",
      " [ 1.89140833e-01]] Cost = 0.3291561379183703\n",
      "For Epoch 21 Theta :[[-4.87926342e-17]\n",
      " [ 1.97191290e-01]] Cost = 0.32270751046707175\n",
      "For Epoch 22 Theta :[[-5.08066010e-17]\n",
      " [ 2.05161358e-01]] Cost = 0.3163870280357507\n",
      "For Epoch 23 Theta :[[-5.25442033e-17]\n",
      " [ 2.13051839e-01]] Cost = 0.3101921441683946\n",
      "For Epoch 24 Theta :[[-5.45581701e-17]\n",
      " [ 2.20863528e-01]] Cost = 0.30412036301133394\n",
      "For Epoch 25 Theta :[[-5.64863686e-17]\n",
      " [ 2.28597212e-01]] Cost = 0.2981692383076886\n",
      "For Epoch 26 Theta :[[-5.83383286e-17]\n",
      " [ 2.36253670e-01]] Cost = 0.2923363724117966\n",
      "For Epoch 27 Theta :[[-6.02569973e-17]\n",
      " [ 2.43833672e-01]] Cost = 0.2866194153232284\n",
      "For Epoch 28 Theta :[[-6.20517784e-17]\n",
      " [ 2.51337984e-01]] Cost = 0.28101606373999555\n",
      "For Epoch 29 Theta :[[-6.38878554e-17]\n",
      " [ 2.58767359e-01]] Cost = 0.2755240601305753\n",
      "For Epoch 30 Theta :[[-6.59526479e-17]\n",
      " [ 2.66122547e-01]] Cost = 0.27014119182437424\n",
      "For Epoch 31 Theta :[[-6.79729679e-17]\n",
      " [ 2.73404288e-01]] Cost = 0.2648652901202669\n",
      "For Epoch 32 Theta :[[-6.97201000e-17]\n",
      " [ 2.80613316e-01]] Cost = 0.25969422941284886\n",
      "For Epoch 33 Theta :[[-7.13624041e-17]\n",
      " [ 2.87750357e-01]] Cost = 0.25462592633605224\n",
      "For Epoch 34 Theta :[[-7.33700177e-17]\n",
      " [ 2.94816130e-01]] Cost = 0.2496583389237802\n",
      "For Epoch 35 Theta :[[-7.52188011e-17]\n",
      " [ 3.01811346e-01]] Cost = 0.24478946578721908\n",
      "For Epoch 36 Theta :[[-7.65593279e-17]\n",
      " [ 3.08736710e-01]] Cost = 0.240017345308501\n",
      "For Epoch 37 Theta :[[-7.82937536e-17]\n",
      " [ 3.15592919e-01]] Cost = 0.23534005485038778\n",
      "For Epoch 38 Theta :[[-7.98344065e-17]\n",
      " [ 3.22380665e-01]] Cost = 0.23075570998166114\n",
      "For Epoch 39 Theta :[[-8.16387174e-17]\n",
      " [ 3.29100629e-01]] Cost = 0.2262624637179047\n",
      "For Epoch 40 Theta :[[-8.31761936e-17]\n",
      " [ 3.35753491e-01]] Cost = 0.22185850577737384\n",
      "For Epoch 41 Theta :[[-8.45135438e-17]\n",
      " [ 3.42339919e-01]] Cost = 0.21754206185165176\n",
      "For Epoch 42 Theta :[[-8.61447299e-17]\n",
      " [ 3.48860577e-01]] Cost = 0.21331139289079934\n",
      "For Epoch 43 Theta :[[-8.74312544e-17]\n",
      " [ 3.55316122e-01]] Cost = 0.20916479440271046\n",
      "For Epoch 44 Theta :[[-8.87146023e-17]\n",
      " [ 3.61707203e-01]] Cost = 0.20510059576638967\n",
      "For Epoch 45 Theta :[[-8.99105937e-17]\n",
      " [ 3.68034465e-01]] Cost = 0.20111715955887666\n",
      "For Epoch 46 Theta :[[-9.16958450e-17]\n",
      " [ 3.74298546e-01]] Cost = 0.1972128808955458\n",
      "For Epoch 47 Theta :[[-9.26821805e-17]\n",
      " [ 3.80500074e-01]] Cost = 0.19338618678351502\n",
      "For Epoch 48 Theta :[[-9.41291235e-17]\n",
      " [ 3.86639677e-01]] Cost = 0.1896355354879032\n",
      "For Epoch 49 Theta :[[-9.56713646e-17]\n",
      " [ 3.92717971e-01]] Cost = 0.18595941591068177\n",
      "For Epoch 50 Theta :[[-9.71024247e-17]\n",
      " [ 3.98735569e-01]] Cost = 0.18235634698186887\n",
      "For Epoch 51 Theta :[[-9.84032439e-17]\n",
      " [ 4.04693077e-01]] Cost = 0.178824877062822\n",
      "For Epoch 52 Theta :[[-9.98025379e-17]\n",
      " [ 4.10591096e-01]] Cost = 0.17536358336138783\n",
      "For Epoch 53 Theta :[[-1.00934997e-16]\n",
      " [ 4.16430218e-01]] Cost = 0.17197107135867448\n",
      "For Epoch 54 Theta :[[-1.02205639e-16]\n",
      " [ 4.22211033e-01]] Cost = 0.16864597424721434\n",
      "For Epoch 55 Theta :[[-1.03581108e-16]\n",
      " [ 4.27934123e-01]] Cost = 0.16538695238029152\n",
      "For Epoch 56 Theta :[[-1.04629387e-16]\n",
      " [ 4.33600063e-01]] Cost = 0.1621926927322126\n",
      "For Epoch 57 Theta :[[-1.05887322e-16]\n",
      " [ 4.39209425e-01]] Cost = 0.1590619083693021\n",
      "For Epoch 58 Theta :[[-1.07399386e-16]\n",
      " [ 4.44762774e-01]] Cost = 0.15599333793141054\n",
      "For Epoch 59 Theta :[[-1.08876507e-16]\n",
      " [ 4.50260669e-01]] Cost = 0.15298574512372562\n",
      "For Epoch 60 Theta :[[-1.10298037e-16]\n",
      " [ 4.55703663e-01]] Cost = 0.1500379182186821\n",
      "For Epoch 61 Theta :[[-1.11775158e-16]\n",
      " [ 4.61092306e-01]] Cost = 0.14714866956776937\n",
      "For Epoch 62 Theta :[[-1.12987032e-16]\n",
      " [ 4.66427139e-01]] Cost = 0.14431683512304036\n",
      "For Epoch 63 Theta :[[-1.14338677e-16]\n",
      " [ 4.71708699e-01]] Cost = 0.1415412739681289\n",
      "For Epoch 64 Theta :[[-1.15628378e-16]\n",
      " [ 4.76937520e-01]] Cost = 0.13882086785858658\n",
      "For Epoch 65 Theta :[[-1.16756072e-16]\n",
      " [ 4.82114128e-01]] Cost = 0.1361545207713535\n",
      "For Epoch 66 Theta :[[-1.18033067e-16]\n",
      " [ 4.87239043e-01]] Cost = 0.13354115846318243\n",
      "For Epoch 67 Theta :[[-1.19119466e-16]\n",
      " [ 4.92312783e-01]] Cost = 0.1309797280378373\n",
      "For Epoch 68 Theta :[[-1.20601351e-16]\n",
      " [ 4.97335858e-01]] Cost = 0.1284691975218924\n",
      "For Epoch 69 Theta :[[-1.21706809e-16]\n",
      " [ 5.02308774e-01]] Cost = 0.12600855544896097\n",
      "For Epoch 70 Theta :[[-1.23137869e-16]\n",
      " [ 5.07232032e-01]] Cost = 0.1235968104521864\n",
      "For Epoch 71 Theta :[[-1.24287800e-16]\n",
      " [ 5.12106128e-01]] Cost = 0.12123299086483055\n",
      "For Epoch 72 Theta :[[-1.25594972e-16]\n",
      " [ 5.16931552e-01]] Cost = 0.11891614432879949\n",
      "For Epoch 73 Theta :[[-1.26778257e-16]\n",
      " [ 5.21708792e-01]] Cost = 0.1166453374109487\n",
      "For Epoch 74 Theta :[[-1.28271261e-16]\n",
      " [ 5.26438327e-01]] Cost = 0.1144196552270123\n",
      "For Epoch 75 Theta :[[-1.29414838e-16]\n",
      " [ 5.31120635e-01]] Cost = 0.11223820107300594\n",
      "For Epoch 76 Theta :[[-1.30655302e-16]\n",
      " [ 5.35756186e-01]] Cost = 0.11010009606395428\n",
      "For Epoch 77 Theta :[[-1.31941827e-16]\n",
      " [ 5.40345449e-01]] Cost = 0.10800447877979721\n",
      "For Epoch 78 Theta :[[-1.33326826e-16]\n",
      " [ 5.44888884e-01]] Cost = 0.10595050491833306\n",
      "For Epoch 79 Theta :[[-1.34292514e-16]\n",
      " [ 5.49386950e-01]] Cost = 0.1039373469550578\n",
      "For Epoch 80 Theta :[[-1.35613981e-16]\n",
      " [ 5.53840100e-01]] Cost = 0.10196419380976439\n",
      "For Epoch 81 Theta :[[-1.36802031e-16]\n",
      " [ 5.58248782e-01]] Cost = 0.10003025051976679\n",
      "For Epoch 82 Theta :[[-1.38017081e-16]\n",
      " [ 5.62613440e-01]] Cost = 0.09813473791961808\n",
      "For Epoch 83 Theta :[[-1.39405257e-16]\n",
      " [ 5.66934514e-01]] Cost = 0.0962768923271928\n",
      "For Epoch 84 Theta :[[-1.40350297e-16]\n",
      " [ 5.71212439e-01]] Cost = 0.09445596523600737\n",
      "For Epoch 85 Theta :[[-1.41201627e-16]\n",
      " [ 5.75447646e-01]] Cost = 0.09267122301365485\n",
      "For Epoch 86 Theta :[[-1.42143490e-16]\n",
      " [ 5.79640561e-01]] Cost = 0.09092194660623198\n",
      "For Epoch 87 Theta :[[-1.43260066e-16]\n",
      " [ 5.83791608e-01]] Cost = 0.08920743124863995\n",
      "For Epoch 88 Theta :[[-1.44365524e-16]\n",
      " [ 5.87901203e-01]] Cost = 0.08752698618064204\n",
      "For Epoch 89 Theta :[[-1.45264503e-16]\n",
      " [ 5.91969761e-01]] Cost = 0.08587993436856343\n",
      "For Epoch 90 Theta :[[-1.46314371e-16]\n",
      " [ 5.95997692e-01]] Cost = 0.08426561223252159\n",
      "For Epoch 91 Theta :[[-1.47415064e-16]\n",
      " [ 5.99985401e-01]] Cost = 0.08268336937907675\n",
      "For Epoch 92 Theta :[[-1.48460166e-16]\n",
      " [ 6.03933290e-01]] Cost = 0.08113256833919534\n",
      "For Epoch 93 Theta :[[-1.49502092e-16]\n",
      " [ 6.07841757e-01]] Cost = 0.07961258431142039\n",
      "For Epoch 94 Theta :[[-1.50582138e-16]\n",
      " [ 6.11711195e-01]] Cost = 0.07812280491014553\n",
      "For Epoch 95 Theta :[[-1.51639947e-16]\n",
      " [ 6.15541994e-01]] Cost = 0.07666262991889128\n",
      "For Epoch 96 Theta :[[-1.52545279e-16]\n",
      " [ 6.19334539e-01]] Cost = 0.07523147104848411\n",
      "For Epoch 97 Theta :[[-1.53441081e-16]\n",
      " [ 6.23089214e-01]] Cost = 0.073828751700041\n",
      "For Epoch 98 Theta :[[-1.54255880e-16]\n",
      " [ 6.26806395e-01]] Cost = 0.07245390673266368\n",
      "For Epoch 99 Theta :[[-1.55199331e-16]\n",
      " [ 6.30486458e-01]] Cost = 0.07110638223574943\n",
      "For Epoch 100 Theta :[[-1.56252376e-16]\n",
      " [ 6.34129773e-01]] Cost = 0.06978563530582618\n",
      "For Epoch 101 Theta :[[-1.57294302e-16]\n",
      " [ 6.37736707e-01]] Cost = 0.0684911338278225\n",
      "For Epoch 102 Theta :[[-1.58425173e-16]\n",
      " [ 6.41307623e-01]] Cost = 0.06722235626068392\n",
      "For Epoch 103 Theta :[[-1.59352741e-16]\n",
      " [ 6.44842881e-01]] Cost = 0.06597879142724965\n",
      "For Epoch 104 Theta :[[-1.60362901e-16]\n",
      " [ 6.48342837e-01]] Cost = 0.06475993830830457\n",
      "For Epoch 105 Theta :[[-1.61315882e-16]\n",
      " [ 6.51807844e-01]] Cost = 0.06356530584072388\n",
      "For Epoch 106 Theta :[[-1.62347484e-16]\n",
      " [ 6.55238250e-01]] Cost = 0.06239441271962893\n",
      "For Epoch 107 Theta :[[-1.63202785e-16]\n",
      " [ 6.58634401e-01]] Cost = 0.061246787204474504\n",
      "For Epoch 108 Theta :[[-1.64112087e-16]\n",
      " [ 6.61996639e-01]] Cost = 0.06012196692898958\n",
      "For Epoch 109 Theta :[[-1.64929269e-16]\n",
      " [ 6.65325303e-01]] Cost = 0.05901949871489471\n",
      "For Epoch 110 Theta :[[-1.66086347e-16]\n",
      " [ 6.68620727e-01]] Cost = 0.057938938389321314\n",
      "For Epoch 111 Theta :[[-1.67042504e-16]\n",
      " [ 6.71883245e-01]] Cost = 0.05687985060585913\n",
      "For Epoch 112 Theta :[[-1.67655589e-16]\n",
      " [ 6.75113184e-01]] Cost = 0.05584180866915963\n",
      "For Epoch 113 Theta :[[-1.68141609e-16]\n",
      " [ 6.78310870e-01]] Cost = 0.05482439436302498\n",
      "For Epoch 114 Theta :[[-1.68483888e-16]\n",
      " [ 6.81476625e-01]] Cost = 0.05382719778191312\n",
      "For Epoch 115 Theta :[[-1.68872228e-16]\n",
      " [ 6.84610768e-01]] Cost = 0.05284981716579123\n",
      "For Epoch 116 Theta :[[-1.69208154e-16]\n",
      " [ 6.87713614e-01]] Cost = 0.051891858738270596\n",
      "For Epoch 117 Theta :[[-1.69669556e-16]\n",
      " [ 6.90785476e-01]] Cost = 0.05095293654795847\n",
      "For Epoch 118 Theta :[[-1.70007070e-16]\n",
      " [ 6.93826663e-01]] Cost = 0.050032672312962156\n",
      "For Epoch 119 Theta :[[-1.70614595e-16]\n",
      " [ 6.96837482e-01]] Cost = 0.049130695268483335\n",
      "For Epoch 120 Theta :[[-1.70982287e-16]\n",
      " [ 6.99818236e-01]] Cost = 0.04824664201744069\n",
      "For Epoch 121 Theta :[[-1.71343626e-16]\n",
      " [ 7.02769225e-01]] Cost = 0.0473801563840611\n",
      "For Epoch 122 Theta :[[-1.71567577e-16]\n",
      " [ 7.05690746e-01]] Cost = 0.0465308892703802\n",
      "For Epoch 123 Theta :[[-1.71974976e-16]\n",
      " [ 7.08583094e-01]] Cost = 0.04569849851559438\n",
      "For Epoch 124 Theta :[[-1.72275165e-16]\n",
      " [ 7.11446560e-01]] Cost = 0.04488264875820786\n",
      "For Epoch 125 Theta :[[-1.72664299e-16]\n",
      " [ 7.14281432e-01]] Cost = 0.04408301130091908\n",
      "For Epoch 126 Theta :[[-1.73132054e-16]\n",
      " [ 7.17087996e-01]] Cost = 0.04329926397819192\n",
      "For Epoch 127 Theta :[[-1.73554542e-16]\n",
      " [ 7.19866534e-01]] Cost = 0.04253109102645868\n",
      "For Epoch 128 Theta :[[-1.73959559e-16]\n",
      " [ 7.22617327e-01]] Cost = 0.04177818295690223\n",
      "For Epoch 129 Theta :[[-1.74505141e-16]\n",
      " [ 7.25340651e-01]] Cost = 0.041040236430766146\n",
      "For Epoch 130 Theta :[[-1.75007838e-16]\n",
      " [ 7.28036781e-01]] Cost = 0.04031695413714282\n",
      "For Epoch 131 Theta :[[-1.75379501e-16]\n",
      " [ 7.30705988e-01]] Cost = 0.03960804467318993\n",
      "For Epoch 132 Theta :[[-1.75698750e-16]\n",
      " [ 7.33348542e-01]] Cost = 0.03891322242672736\n",
      "For Epoch 133 Theta :[[-1.75922700e-16]\n",
      " [ 7.35964707e-01]] Cost = 0.038232207461166984\n",
      "For Epoch 134 Theta :[[-1.76137121e-16]\n",
      " [ 7.38554748e-01]] Cost = 0.03756472540272921\n",
      "For Epoch 135 Theta :[[-1.76532608e-16]\n",
      " [ 7.41118926e-01]] Cost = 0.036910507329900644\n",
      "For Epoch 136 Theta :[[-1.76977333e-16]\n",
      " [ 7.43657499e-01]] Cost = 0.03626928966508842\n",
      "For Epoch 137 Theta :[[-1.77393468e-16]\n",
      " [ 7.46170723e-01]] Cost = 0.03564081406842754\n",
      "For Epoch 138 Theta :[[-1.77823898e-16]\n",
      " [ 7.48658850e-01]] Cost = 0.035024827333698556\n",
      "For Epoch 139 Theta :[[-1.78236856e-16]\n",
      " [ 7.51122132e-01]] Cost = 0.03442108128631332\n",
      "For Epoch 140 Theta :[[-1.78575165e-16]\n",
      " [ 7.53560815e-01]] Cost = 0.03382933268332811\n",
      "For Epoch 141 Theta :[[-1.78930150e-16]\n",
      " [ 7.55975147e-01]] Cost = 0.03324934311544361\n",
      "For Epoch 142 Theta :[[-1.79371698e-16]\n",
      " [ 7.58365371e-01]] Cost = 0.032680878910952275\n",
      "For Epoch 143 Theta :[[-1.79781480e-16]\n",
      " [ 7.60731726e-01]] Cost = 0.03212371104159443\n",
      "For Epoch 144 Theta :[[-1.80170614e-16]\n",
      " [ 7.63074451e-01]] Cost = 0.03157761503028527\n",
      "For Epoch 145 Theta :[[-1.80497010e-16]\n",
      " [ 7.65393783e-01]] Cost = 0.03104237086067535\n",
      "For Epoch 146 Theta :[[-1.80665370e-16]\n",
      " [ 7.67689955e-01]] Cost = 0.03051776288850828\n",
      "For Epoch 147 Theta :[[-1.81017179e-16]\n",
      " [ 7.69963197e-01]] Cost = 0.030003579754739985\n",
      "For Epoch 148 Theta :[[-1.81325309e-16]\n",
      " [ 7.72213740e-01]] Cost = 0.02949961430038431\n",
      "For Epoch 149 Theta :[[-1.81527024e-16]\n",
      " [ 7.74441810e-01]] Cost = 0.029005663483050868\n",
      "For Epoch 150 Theta :[[-1.81804182e-16]\n",
      " [ 7.76647631e-01]] Cost = 0.02852152829514137\n",
      "For Epoch 151 Theta :[[-1.82214758e-16]\n",
      " [ 7.78831425e-01]] Cost = 0.028047013683671587\n",
      "For Epoch 152 Theta :[[-1.82632482e-16]\n",
      " [ 7.80993412e-01]] Cost = 0.02758192847168652\n",
      "For Epoch 153 Theta :[[-1.82953319e-16]\n",
      " [ 7.83133811e-01]] Cost = 0.027126085281237226\n",
      "For Epoch 154 Theta :[[-1.83312275e-16]\n",
      " [ 7.85252836e-01]] Cost = 0.02667930045788817\n",
      "For Epoch 155 Theta :[[-1.83740322e-16]\n",
      " [ 7.87350701e-01]] Cost = 0.026241393996724902\n",
      "For Epoch 156 Theta :[[-1.84081807e-16]\n",
      " [ 7.89427617e-01]] Cost = 0.025812189469831794\n",
      "For Epoch 157 Theta :[[-1.84371672e-16]\n",
      " [ 7.91483795e-01]] Cost = 0.02539151395521122\n",
      "For Epoch 158 Theta :[[-1.84687744e-16]\n",
      " [ 7.93519439e-01]] Cost = 0.02497919796711503\n",
      "For Epoch 159 Theta :[[-1.84956962e-16]\n",
      " [ 7.95534757e-01]] Cost = 0.024575075387760565\n",
      "For Epoch 160 Theta :[[-1.85300035e-16]\n",
      " [ 7.97529950e-01]] Cost = 0.024178983400403524\n",
      "For Epoch 161 Theta :[[-1.85492219e-16]\n",
      " [ 7.99505219e-01]] Cost = 0.023790762423740786\n",
      "For Epoch 162 Theta :[[-1.85813850e-16]\n",
      " [ 8.01460765e-01]] Cost = 0.023410256047616814\n",
      "For Epoch 163 Theta :[[-1.86166453e-16]\n",
      " [ 8.03396782e-01]] Cost = 0.023037310970007642\n",
      "For Epoch 164 Theta :[[-1.86388816e-16]\n",
      " [ 8.05313468e-01]] Cost = 0.022671776935257064\n",
      "For Epoch 165 Theta :[[-1.86683446e-16]\n",
      " [ 8.07211014e-01]] Cost = 0.022313506673540255\n",
      "For Epoch 166 Theta :[[-1.87085286e-16]\n",
      " [ 8.09089611e-01]] Cost = 0.021962355841530272\n",
      "For Epoch 167 Theta :[[-1.87416447e-16]\n",
      " [ 8.10949450e-01]] Cost = 0.021618182964243653\n",
      "For Epoch 168 Theta :[[-1.87630074e-16]\n",
      " [ 8.12790716e-01]] Cost = 0.021280849378041623\n",
      "For Epoch 169 Theta :[[-1.87902467e-16]\n",
      " [ 8.14613597e-01]] Cost = 0.02095021917476402\n",
      "For Epoch 170 Theta :[[-1.88220128e-16]\n",
      " [ 8.16418274e-01]] Cost = 0.020626159146973234\n",
      "For Epoch 171 Theta :[[-1.88543347e-16]\n",
      " [ 8.18204931e-01]] Cost = 0.02030853873428639\n",
      "For Epoch 172 Theta :[[-1.88857037e-16]\n",
      " [ 8.19973747e-01]] Cost = 0.01999722997077394\n",
      "For Epoch 173 Theta :[[-1.89155638e-16]\n",
      " [ 8.21724899e-01]] Cost = 0.019692107433403515\n",
      "For Epoch 174 Theta :[[-1.89577332e-16]\n",
      " [ 8.23458566e-01]] Cost = 0.019393048191508333\n",
      "For Epoch 175 Theta :[[-1.89891021e-16]\n",
      " [ 8.25174920e-01]] Cost = 0.01909993175725966\n",
      "For Epoch 176 Theta :[[-1.90165798e-16]\n",
      " [ 8.26874136e-01]] Cost = 0.0188126400371236\n",
      "For Epoch 177 Theta :[[-1.90562079e-16]\n",
      " [ 8.28556383e-01]] Cost = 0.01853105728428239\n",
      "For Epoch 178 Theta :[[-1.90862268e-16]\n",
      " [ 8.30221832e-01]] Cost = 0.018255070052001266\n",
      "For Epoch 179 Theta :[[-1.90906740e-16]\n",
      " [ 8.31870651e-01]] Cost = 0.01798456714792198\n",
      "For Epoch 180 Theta :[[-1.91102896e-16]\n",
      " [ 8.33503005e-01]] Cost = 0.017719439589264488\n",
      "For Epoch 181 Theta :[[-1.91385613e-16]\n",
      " [ 8.35119059e-01]] Cost = 0.017459580558918997\n",
      "For Epoch 182 Theta :[[-1.91704068e-16]\n",
      " [ 8.36718975e-01]] Cost = 0.017204885362410455\n",
      "For Epoch 183 Theta :[[-1.91985992e-16]\n",
      " [ 8.38302915e-01]] Cost = 0.016955251385718264\n",
      "For Epoch 184 Theta :[[-1.92304446e-16]\n",
      " [ 8.39871038e-01]] Cost = 0.016710578053934135\n",
      "For Epoch 185 Theta :[[-1.92637195e-16]\n",
      " [ 8.41423503e-01]] Cost = 0.016470766790741533\n",
      "For Epoch 186 Theta :[[-1.92966768e-16]\n",
      " [ 8.42960465e-01]] Cost = 0.016235720978700307\n",
      "For Epoch 187 Theta :[[-1.93340019e-16]\n",
      " [ 8.44482080e-01]] Cost = 0.016005345920320553\n",
      "For Epoch 188 Theta :[[-1.93698975e-16]\n",
      " [ 8.45988500e-01]] Cost = 0.015779548799909972\n",
      "For Epoch 189 Theta :[[-1.94122258e-16]\n",
      " [ 8.47479877e-01]] Cost = 0.01555823864617942\n",
      "For Epoch 190 Theta :[[-1.94409740e-16]\n",
      " [ 8.48956362e-01]] Cost = 0.015341326295591508\n",
      "For Epoch 191 Theta :[[-1.94584453e-16]\n",
      " [ 8.50418103e-01]] Cost = 0.015128724356437558\n",
      "For Epoch 192 Theta :[[-1.94777432e-16]\n",
      " [ 8.51865248e-01]] Cost = 0.014920347173628414\n",
      "For Epoch 193 Theta :[[-1.94905290e-16]\n",
      " [ 8.53297942e-01]] Cost = 0.014716110794184879\n",
      "For Epoch 194 Theta :[[-1.94983911e-16]\n",
      " [ 8.54716330e-01]] Cost = 0.01451593293341396\n",
      "For Epoch 195 Theta :[[-1.95158625e-16]\n",
      " [ 8.56120554e-01]] Cost = 0.014319732941757255\n",
      "For Epoch 196 Theta :[[-1.95396870e-16]\n",
      " [ 8.57510756e-01]] Cost = 0.014127431772298022\n",
      "For Epoch 197 Theta :[[-1.95454049e-16]\n",
      " [ 8.58887075e-01]] Cost = 0.013938951948914082\n",
      "For Epoch 198 Theta :[[-1.95761385e-16]\n",
      " [ 8.60249651e-01]] Cost = 0.013754217535063463\n",
      "For Epoch 199 Theta :[[-1.96133048e-16]\n",
      " [ 8.61598621e-01]] Cost = 0.013573154103190363\n",
      "For Epoch 200 Theta :[[-1.96394323e-16]\n",
      " [ 8.62934121e-01]] Cost = 0.013395688704739051\n",
      "For Epoch 201 Theta :[[-1.96591273e-16]\n",
      " [ 8.64256285e-01]] Cost = 0.013221749840763748\n",
      "For Epoch 202 Theta :[[-1.96804105e-16]\n",
      " [ 8.65565246e-01]] Cost = 0.013051267433122335\n",
      "For Epoch 203 Theta :[[-1.96994702e-16]\n",
      " [ 8.66861136e-01]] Cost = 0.012884172796242677\n",
      "For Epoch 204 Theta :[[-1.97277419e-16]\n",
      " [ 8.68144085e-01]] Cost = 0.012720398609449925\n",
      "For Epoch 205 Theta :[[-1.97443397e-16]\n",
      " [ 8.69414224e-01]] Cost = 0.0125598788898437\n",
      "For Epoch 206 Theta :[[-1.97585550e-16]\n",
      " [ 8.70671679e-01]] Cost = 0.012402548965714267\n",
      "For Epoch 207 Theta :[[-1.97828560e-16]\n",
      " [ 8.71916578e-01]] Cost = 0.012248345450487025\n",
      "For Epoch 208 Theta :[[-1.98057276e-16]\n",
      " [ 8.73149045e-01]] Cost = 0.012097206217184672\n",
      "For Epoch 209 Theta :[[-1.98266137e-16]\n",
      " [ 8.74369206e-01]] Cost = 0.011949070373396932\n",
      "For Epoch 210 Theta :[[-1.98503588e-16]\n",
      " [ 8.75577182e-01]] Cost = 0.011803878236747646\n",
      "For Epoch 211 Theta :[[-1.98806160e-16]\n",
      " [ 8.76773096e-01]] Cost = 0.01166157131084932\n",
      "For Epoch 212 Theta :[[-1.98956254e-16]\n",
      " [ 8.77957068e-01]] Cost = 0.01152209226173562\n",
      "For Epoch 213 Theta :[[-1.99099996e-16]\n",
      " [ 8.79129217e-01]] Cost = 0.011385384894762051\n",
      "For Epoch 214 Theta :[[-1.99382713e-16]\n",
      " [ 8.80289662e-01]] Cost = 0.011251394131965754\n",
      "For Epoch 215 Theta :[[-1.99628900e-16]\n",
      " [ 8.81438518e-01]] Cost = 0.011120065989875172\n",
      "For Epoch 216 Theta :[[-1.99844909e-16]\n",
      " [ 8.82575903e-01]] Cost = 0.010991347557760697\n",
      "For Epoch 217 Theta :[[-2.00022799e-16]\n",
      " [ 8.83701929e-01]] Cost = 0.010865186976317439\n",
      "For Epoch 218 Theta :[[-2.00233249e-16]\n",
      " [ 8.84816712e-01]] Cost = 0.010741533416771715\n",
      "For Epoch 219 Theta :[[-2.00344430e-16]\n",
      " [ 8.85920363e-01]] Cost = 0.010620337060402621\n",
      "For Epoch 220 Theta :[[-2.00614442e-16]\n",
      " [ 8.87012993e-01]] Cost = 0.010501549078470633\n",
      "For Epoch 221 Theta :[[-2.00820127e-16]\n",
      " [ 8.88094712e-01]] Cost = 0.010385121612544988\n",
      "For Epoch 222 Theta :[[-2.01080608e-16]\n",
      " [ 8.89165630e-01]] Cost = 0.010271007755222055\n",
      "For Epoch 223 Theta :[[-2.01252145e-16]\n",
      " [ 8.90225854e-01]] Cost = 0.010159161531226792\n",
      "For Epoch 224 Theta :[[-2.01516597e-16]\n",
      " [ 8.91275491e-01]] Cost = 0.010049537878889842\n",
      "For Epoch 225 Theta :[[-2.01631749e-16]\n",
      " [ 8.92314646e-01]] Cost = 0.009942092631992628\n",
      "For Epoch 226 Theta :[[-2.01750077e-16]\n",
      " [ 8.93343425e-01]] Cost = 0.00983678250197325\n",
      "For Epoch 227 Theta :[[-2.01893819e-16]\n",
      " [ 8.94361930e-01]] Cost = 0.009733565060485975\n",
      "For Epoch 228 Theta :[[-2.02076474e-16]\n",
      " [ 8.95370266e-01]] Cost = 0.009632398722307317\n",
      "For Epoch 229 Theta :[[-2.02185272e-16]\n",
      " [ 8.96368532e-01]] Cost = 0.00953324272858178\n",
      "For Epoch 230 Theta :[[-2.02286924e-16]\n",
      " [ 8.97356830e-01]] Cost = 0.009436057130400539\n",
      "For Epoch 231 Theta :[[-2.02536287e-16]\n",
      " [ 8.98335259e-01]] Cost = 0.009340802772706443\n",
      "For Epoch 232 Theta :[[-2.02794386e-16]\n",
      " [ 8.99303917e-01]] Cost = 0.009247441278518858\n",
      "For Epoch 233 Theta :[[-2.03032631e-16]\n",
      " [ 9.00262903e-01]] Cost = 0.009155935033471974\n",
      "For Epoch 234 Theta :[[-2.03088222e-16]\n",
      " [ 9.01212313e-01]] Cost = 0.009066247170660409\n",
      "For Epoch 235 Theta :[[-2.03305025e-16]\n",
      " [ 9.02152243e-01]] Cost = 0.00897834155578587\n",
      "For Epoch 236 Theta :[[-2.03509122e-16]\n",
      " [ 9.03082786e-01]] Cost = 0.008892182772599042\n",
      "For Epoch 237 Theta :[[-2.03706865e-16]\n",
      " [ 9.04004038e-01]] Cost = 0.008807736108630787\n",
      "For Epoch 238 Theta :[[-2.03934787e-16]\n",
      " [ 9.04916090e-01]] Cost = 0.008724967541206784\n",
      "For Epoch 239 Theta :[[-2.04200827e-16]\n",
      " [ 9.05819034e-01]] Cost = 0.008643843723740224\n",
      "For Epoch 240 Theta :[[-2.04401747e-16]\n",
      " [ 9.06712962e-01]] Cost = 0.008564331972296764\n",
      "For Epoch 241 Theta :[[-2.04589167e-16]\n",
      " [ 9.07597964e-01]] Cost = 0.008486400252426547\n",
      "For Epoch 242 Theta :[[-2.04770234e-16]\n",
      " [ 9.08474128e-01]] Cost = 0.00841001716625786\n",
      "For Epoch 243 Theta :[[-2.04991802e-16]\n",
      " [ 9.09341543e-01]] Cost = 0.00833515193984723\n",
      "For Epoch 244 Theta :[[-2.05136337e-16]\n",
      " [ 9.10200296e-01]] Cost = 0.008261774410780949\n",
      "For Epoch 245 Theta :[[-2.05356317e-16]\n",
      " [ 9.11050474e-01]] Cost = 0.00818985501602295\n",
      "For Epoch 246 Theta :[[-2.05518324e-16]\n",
      " [ 9.11892163e-01]] Cost = 0.008119364780004183\n",
      "For Epoch 247 Theta :[[-2.05695419e-16]\n",
      " [ 9.12725447e-01]] Cost = 0.008050275302948625\n",
      "For Epoch 248 Theta :[[-2.05863779e-16]\n",
      " [ 9.13550409e-01]] Cost = 0.00798255874943135\n",
      "For Epoch 249 Theta :[[-2.05972578e-16]\n",
      " [ 9.14367134e-01]] Cost = 0.007916187837163911\n",
      "For Epoch 250 Theta :[[-2.06123467e-16]\n",
      " [ 9.15175703e-01]] Cost = 0.007851135826002588\n",
      "For Epoch 251 Theta :[[-2.06304533e-16]\n",
      " [ 9.15976199e-01]] Cost = 0.007787376507175067\n",
      "For Epoch 252 Theta :[[-2.06568191e-16]\n",
      " [ 9.16768700e-01]] Cost = 0.007724884192721207\n",
      "For Epoch 253 Theta :[[-2.06728610e-16]\n",
      " [ 9.17553288e-01]] Cost = 0.007663633705143617\n",
      "For Epoch 254 Theta :[[-2.06956531e-16]\n",
      " [ 9.18330042e-01]] Cost = 0.007603600367263936\n",
      "For Epoch 255 Theta :[[-2.07100272e-16]\n",
      " [ 9.19099039e-01]] Cost = 0.007544759992280627\n",
      "For Epoch 256 Theta :[[-2.07255132e-16]\n",
      " [ 9.19860357e-01]] Cost = 0.007487088874024374\n",
      "For Epoch 257 Theta :[[-2.07589469e-16]\n",
      " [ 9.20614072e-01]] Cost = 0.00743056377740713\n",
      "For Epoch 258 Theta :[[-2.07777683e-16]\n",
      " [ 9.21360262e-01]] Cost = 0.007375161929060919\n",
      "For Epoch 259 Theta :[[-2.08027047e-16]\n",
      " [ 9.22099000e-01]] Cost = 0.007320861008162716\n",
      "For Epoch 260 Theta :[[-2.08238291e-16]\n",
      " [ 9.22830361e-01]] Cost = 0.0072676391374416\n",
      "For Epoch 261 Theta :[[-2.08380444e-16]\n",
      " [ 9.23554419e-01]] Cost = 0.007215474874364638\n",
      "For Epoch 262 Theta :[[-2.08570246e-16]\n",
      " [ 9.24271247e-01]] Cost = 0.007164347202497911\n",
      "For Epoch 263 Theta :[[-2.08717958e-16]\n",
      " [ 9.24980917e-01]] Cost = 0.00711423552303922\n",
      "For Epoch 264 Theta :[[-2.08904583e-16]\n",
      " [ 9.25683500e-01]] Cost = 0.007065119646519035\n",
      "For Epoch 265 Theta :[[-2.09075326e-16]\n",
      " [ 9.26379068e-01]] Cost = 0.007016979784666376\n",
      "For Epoch 266 Theta :[[-2.09195243e-16]\n",
      " [ 9.27067690e-01]] Cost = 0.006969796542436333\n",
      "For Epoch 267 Theta :[[-2.09366779e-16]\n",
      " [ 9.27749435e-01]] Cost = 0.006923550910195983\n",
      "For Epoch 268 Theta :[[-2.09487490e-16]\n",
      " [ 9.28424373e-01]] Cost = 0.006878224256065638\n",
      "For Epoch 269 Theta :[[-2.09681263e-16]\n",
      " [ 9.29092571e-01]] Cost = 0.006833798318412237\n",
      "For Epoch 270 Theta :[[-2.09829769e-16]\n",
      " [ 9.29754097e-01]] Cost = 0.006790255198491925\n",
      "For Epoch 271 Theta :[[-2.09956833e-16]\n",
      " [ 9.30409016e-01]] Cost = 0.006747577353238854\n",
      "For Epoch 272 Theta :[[-2.10205403e-16]\n",
      " [ 9.31057396e-01]] Cost = 0.0067057475881972415\n",
      "For Epoch 273 Theta :[[-2.10344379e-16]\n",
      " [ 9.31699302e-01]] Cost = 0.006664749050593933\n",
      "For Epoch 274 Theta :[[-2.10505592e-16]\n",
      " [ 9.32334798e-01]] Cost = 0.006624565222548574\n",
      "For Epoch 275 Theta :[[-2.10666010e-16]\n",
      " [ 9.32963947e-01]] Cost = 0.006585179914418734\n",
      "For Epoch 276 Theta :[[-2.10818487e-16]\n",
      " [ 9.33586815e-01]] Cost = 0.006546577258277281\n",
      "For Epoch 277 Theta :[[-2.10985259e-16]\n",
      " [ 9.34203462e-01]] Cost = 0.006508741701519345\n",
      "For Epoch 278 Theta :[[-2.11047203e-16]\n",
      " [ 9.34813952e-01]] Cost = 0.006471658000596346\n",
      "For Epoch 279 Theta :[[-2.11177443e-16]\n",
      " [ 9.35418345e-01]] Cost = 0.006435311214874529\n",
      "For Epoch 280 Theta :[[-2.11278301e-16]\n",
      " [ 9.36016704e-01]] Cost = 0.006399686700615532\n",
      "For Epoch 281 Theta :[[-2.11491927e-16]\n",
      " [ 9.36609087e-01]] Cost = 0.0063647701050765886\n",
      "For Epoch 282 Theta :[[-2.11882649e-16]\n",
      " [ 9.37195555e-01]] Cost = 0.006330547360727942\n",
      "For Epoch 283 Theta :[[-2.12060539e-16]\n",
      " [ 9.37776167e-01]] Cost = 0.006297004679585205\n",
      "For Epoch 284 Theta :[[-2.12219369e-16]\n",
      " [ 9.38350981e-01]] Cost = 0.006264128547654316\n",
      "For Epoch 285 Theta :[[-2.12378994e-16]\n",
      " [ 9.38920055e-01]] Cost = 0.006231905719486877\n",
      "For Epoch 286 Theta :[[-2.12541795e-16]\n",
      " [ 9.39483446e-01]] Cost = 0.006200323212843741\n",
      "For Epoch 287 Theta :[[-2.12719684e-16]\n",
      " [ 9.40041212e-01]] Cost = 0.006169368303464564\n",
      "For Epoch 288 Theta :[[-2.12930929e-16]\n",
      " [ 9.40593408e-01]] Cost = 0.006139028519941353\n",
      "For Epoch 289 Theta :[[-2.13100877e-16]\n",
      " [ 9.41140089e-01]] Cost = 0.006109291638693864\n",
      "For Epoch 290 Theta :[[-2.13298621e-16]\n",
      " [ 9.41681312e-01]] Cost = 0.00608014567904486\n",
      "For Epoch 291 Theta :[[-2.13296238e-16]\n",
      " [ 9.42217130e-01]] Cost = 0.006051578898393194\n",
      "For Epoch 292 Theta :[[-2.13453480e-16]\n",
      " [ 9.42747598e-01]] Cost = 0.006023579787482876\n",
      "For Epoch 293 Theta :[[-2.13655988e-16]\n",
      " [ 9.43272769e-01]] Cost = 0.0059961370657660796\n",
      "For Epoch 294 Theta :[[-2.13726668e-16]\n",
      " [ 9.43792695e-01]] Cost = 0.0059692396768583475\n",
      "For Epoch 295 Theta :[[-2.13854526e-16]\n",
      " [ 9.44307430e-01]] Cost = 0.005942876784084088\n",
      "For Epoch 296 Theta :[[-2.14067359e-16]\n",
      " [ 9.44817025e-01]] Cost = 0.005917037766110589\n",
      "For Epoch 297 Theta :[[-2.14253190e-16]\n",
      " [ 9.45321531e-01]] Cost = 0.005891712212668791\n",
      "For Epoch 298 Theta :[[-2.14620088e-16]\n",
      " [ 9.45820999e-01]] Cost = 0.005866889920359113\n",
      "For Epoch 299 Theta :[[-2.14812272e-16]\n",
      " [ 9.46315480e-01]] Cost = 0.0058425608885405884\n",
      "For Epoch 300 Theta :[[-2.15008428e-16]\n",
      " [ 9.46805023e-01]] Cost = 0.0058187153153017365\n",
      "For Epoch 301 Theta :[[-2.15146610e-16]\n",
      " [ 9.47289677e-01]] Cost = 0.0057953435935114445\n",
      "For Epoch 302 Theta :[[-2.15316558e-16]\n",
      " [ 9.47769492e-01]] Cost = 0.005772436306948394\n",
      "For Epoch 303 Theta :[[-2.15515890e-16]\n",
      " [ 9.48244516e-01]] Cost = 0.005749984226507333\n",
      "For Epoch 304 Theta :[[-2.15638189e-16]\n",
      " [ 9.48714796e-01]] Cost = 0.0057279783064807755\n",
      "For Epoch 305 Theta :[[-2.15828785e-16]\n",
      " [ 9.49180380e-01]] Cost = 0.0057064096809145825\n",
      "For Epoch 306 Theta :[[-2.16025735e-16]\n",
      " [ 9.49641315e-01]] Cost = 0.0056852696600359675\n",
      "For Epoch 307 Theta :[[-2.16192507e-16]\n",
      " [ 9.50097647e-01]] Cost = 0.00566454972675247\n",
      "For Epoch 308 Theta :[[-2.16311629e-16]\n",
      " [ 9.50549422e-01]] Cost = 0.005644241533220509\n",
      "For Epoch 309 Theta :[[-2.16422810e-16]\n",
      " [ 9.50996686e-01]] Cost = 0.005624336897482124\n",
      "For Epoch 310 Theta :[[-2.16510167e-16]\n",
      " [ 9.51439484e-01]] Cost = 0.0056048278001685605\n",
      "For Epoch 311 Theta :[[-2.16599112e-16]\n",
      " [ 9.51877860e-01]] Cost = 0.005585706381269335\n",
      "For Epoch 312 Theta :[[-2.16777002e-16]\n",
      " [ 9.52311859e-01]] Cost = 0.0055669649369655344\n",
      "For Epoch 313 Theta :[[-2.16926302e-16]\n",
      " [ 9.52741524e-01]] Cost = 0.005548595916526017\n",
      "For Epoch 314 Theta :[[-2.17066867e-16]\n",
      " [ 9.53166898e-01]] Cost = 0.005530591919265299\n",
      "For Epoch 315 Theta :[[-2.17198696e-16]\n",
      " [ 9.53588025e-01]] Cost = 0.005512945691561914\n",
      "For Epoch 316 Theta :[[-2.17322583e-16]\n",
      " [ 9.54004947e-01]] Cost = 0.0054956501239359894\n",
      "For Epoch 317 Theta :[[-2.17526680e-16]\n",
      " [ 9.54417705e-01]] Cost = 0.0054786982481849125\n",
      "For Epoch 318 Theta :[[-2.17757778e-16]\n",
      " [ 9.54826342e-01]] Cost = 0.0054620832345759224\n",
      "For Epoch 319 Theta :[[-2.17889607e-16]\n",
      " [ 9.55230898e-01]] Cost = 0.005445798389094482\n",
      "For Epoch 320 Theta :[[-2.18026995e-16]\n",
      " [ 9.55631414e-01]] Cost = 0.005429837150747323\n",
      "For Epoch 321 Theta :[[-2.18200914e-16]\n",
      " [ 9.56027931e-01]] Cost = 0.005414193088919089\n",
      "For Epoch 322 Theta :[[-2.18362127e-16]\n",
      " [ 9.56420488e-01]] Cost = 0.00539885990078152\n",
      "For Epoch 323 Theta :[[-2.18516986e-16]\n",
      " [ 9.56809126e-01]] Cost = 0.005383831408754099\n",
      "For Epoch 324 Theta :[[-2.18672640e-16]\n",
      " [ 9.57193882e-01]] Cost = 0.005369101558015173\n",
      "For Epoch 325 Theta :[[-2.18785409e-16]\n",
      " [ 9.57574797e-01]] Cost = 0.005354664414062531\n",
      "For Epoch 326 Theta :[[-2.18947416e-16]\n",
      " [ 9.57951908e-01]] Cost = 0.0053405141603224526\n",
      "For Epoch 327 Theta :[[-2.19030802e-16]\n",
      " [ 9.58325253e-01]] Cost = 0.005326645095806262\n",
      "For Epoch 328 Theta :[[-2.19203133e-16]\n",
      " [ 9.58694870e-01]] Cost = 0.0053130516328134866\n",
      "For Epoch 329 Theta :[[-2.19369905e-16]\n",
      " [ 9.59060796e-01]] Cost = 0.005299728294680604\n",
      "For Epoch 330 Theta :[[-2.19564472e-16]\n",
      " [ 9.59423068e-01]] Cost = 0.005286669713574557\n",
      "For Epoch 331 Theta :[[-2.19700271e-16]\n",
      " [ 9.59781722e-01]] Cost = 0.005273870628330129\n",
      "For Epoch 332 Theta :[[-2.19820982e-16]\n",
      " [ 9.60136796e-01]] Cost = 0.005261325882330248\n",
      "For Epoch 333 Theta :[[-2.19991725e-16]\n",
      " [ 9.60488323e-01]] Cost = 0.005249030421428458\n",
      "For Epoch 334 Theta :[[-2.20104494e-16]\n",
      " [ 9.60836340e-01]] Cost = 0.005236979291912658\n",
      "For Epoch 335 Theta :[[-2.20069552e-16]\n",
      " [ 9.61180882e-01]] Cost = 0.005225167638509289\n",
      "For Epoch 336 Theta :[[-2.20185498e-16]\n",
      " [ 9.61521984e-01]] Cost = 0.005213590702427206\n",
      "For Epoch 337 Theta :[[-2.20354652e-16]\n",
      " [ 9.61859679e-01]] Cost = 0.00520224381944041\n",
      "For Epoch 338 Theta :[[-2.20516659e-16]\n",
      " [ 9.62194003e-01]] Cost = 0.005191122418008875\n",
      "For Epoch 339 Theta :[[-2.20623869e-16]\n",
      " [ 9.62524988e-01]] Cost = 0.00518022201743673\n",
      "For Epoch 340 Theta :[[-2.20734256e-16]\n",
      " [ 9.62852667e-01]] Cost = 0.005169538226067028\n",
      "For Epoch 341 Theta :[[-2.20920087e-16]\n",
      " [ 9.63177075e-01]] Cost = 0.005159066739512398\n",
      "For Epoch 342 Theta :[[-2.21101154e-16]\n",
      " [ 9.63498243e-01]] Cost = 0.005148803338920846\n",
      "For Epoch 343 Theta :[[-2.21210746e-16]\n",
      " [ 9.63816204e-01]] Cost = 0.00513874388927603\n",
      "For Epoch 344 Theta :[[-2.21378312e-16]\n",
      " [ 9.64130990e-01]] Cost = 0.005128884337731304\n",
      "For Epoch 345 Theta :[[-2.21526024e-16]\n",
      " [ 9.64442633e-01]] Cost = 0.005119220711976863\n",
      "For Epoch 346 Theta :[[-2.21699943e-16]\n",
      " [ 9.64751164e-01]] Cost = 0.005109749118639351\n",
      "For Epoch 347 Theta :[[-2.21867509e-16]\n",
      " [ 9.65056614e-01]] Cost = 0.005100465741713259\n",
      "For Epoch 348 Theta :[[-2.22097019e-16]\n",
      " [ 9.65359013e-01]] Cost = 0.005091366841023488\n",
      "For Epoch 349 Theta :[[-2.22313822e-16]\n",
      " [ 9.65658393e-01]] Cost = 0.00508244875071848\n",
      "For Epoch 350 Theta :[[-2.22495683e-16]\n",
      " [ 9.65954784e-01]] Cost = 0.005073707877793285\n",
      "For Epoch 351 Theta :[[-2.22633865e-16]\n",
      " [ 9.66248215e-01]] Cost = 0.005065140700641968\n",
      "For Epoch 352 Theta :[[-2.22809372e-16]\n",
      " [ 9.66538715e-01]] Cost = 0.0050567437676388065\n",
      "For Epoch 353 Theta :[[-2.22949937e-16]\n",
      " [ 9.66826315e-01]] Cost = 0.00504851369574765\n",
      "For Epoch 354 Theta :[[-2.23099237e-16]\n",
      " [ 9.67111043e-01]] Cost = 0.005040447169158944\n",
      "For Epoch 355 Theta :[[-2.23242979e-16]\n",
      " [ 9.67392928e-01]] Cost = 0.005032540937953815\n",
      "For Epoch 356 Theta :[[-2.23404985e-16]\n",
      " [ 9.67671998e-01]] Cost = 0.005024791816794722\n",
      "For Epoch 357 Theta :[[-2.23563022e-16]\n",
      " [ 9.67948281e-01]] Cost = 0.005017196683642103\n",
      "For Epoch 358 Theta :[[-2.23691674e-16]\n",
      " [ 9.68221806e-01]] Cost = 0.005009752478496555\n",
      "For Epoch 359 Theta :[[-2.23844945e-16]\n",
      " [ 9.68492599e-01]] Cost = 0.005002456202165986\n",
      "For Epoch 360 Theta :[[-2.23960891e-16]\n",
      " [ 9.68760688e-01]] Cost = 0.004995304915057261\n",
      "For Epoch 361 Theta :[[-2.23858446e-16]\n",
      " [ 9.69026100e-01]] Cost = 0.004988295735991888\n",
      "For Epoch 362 Theta :[[-2.24045865e-16]\n",
      " [ 9.69288861e-01]] Cost = 0.004981425841045212\n",
      "For Epoch 363 Theta :[[-2.24226932e-16]\n",
      " [ 9.69548999e-01]] Cost = 0.004974692462408688\n",
      "For Epoch 364 Theta :[[-2.24343672e-16]\n",
      " [ 9.69806539e-01]] Cost = 0.004968092887274753\n",
      "For Epoch 365 Theta :[[-2.24515209e-16]\n",
      " [ 9.70061508e-01]] Cost = 0.004961624456743879\n",
      "For Epoch 366 Theta :[[-2.24608124e-16]\n",
      " [ 9.70313930e-01]] Cost = 0.004955284564753318\n",
      "For Epoch 367 Theta :[[-2.24768543e-16]\n",
      " [ 9.70563832e-01]] Cost = 0.004949070657027147\n",
      "For Epoch 368 Theta :[[-2.24893224e-16]\n",
      " [ 9.70811238e-01]] Cost = 0.004942980230047186\n",
      "For Epoch 369 Theta :[[-2.25048878e-16]\n",
      " [ 9.71056174e-01]] Cost = 0.004937010830044346\n",
      "For Epoch 370 Theta :[[-2.25183089e-16]\n",
      " [ 9.71298664e-01]] Cost = 0.004931160052010042\n",
      "For Epoch 371 Theta :[[-2.25349067e-16]\n",
      " [ 9.71538732e-01]] Cost = 0.004925425538727228\n",
      "For Epoch 372 Theta :[[-2.25210885e-16]\n",
      " [ 9.71776404e-01]] Cost = 0.004919804979820712\n",
      "For Epoch 373 Theta :[[-2.25348273e-16]\n",
      " [ 9.72011702e-01]] Cost = 0.0049142961108263215\n",
      "For Epoch 374 Theta :[[-2.2554284e-16]\n",
      " [ 9.7224465e-01]] Cost = 0.004908896712278574\n",
      "For Epoch 375 Theta :[[-2.25600019e-16]\n",
      " [ 9.72475272e-01]] Cost = 0.0049036046088164875\n",
      "For Epoch 376 Theta :[[-2.25769173e-16]\n",
      " [ 9.72703591e-01]] Cost = 0.004898417668307134\n",
      "For Epoch 377 Theta :[[-2.25921650e-16]\n",
      " [ 9.72929631e-01]] Cost = 0.004893333800986646\n",
      "For Epoch 378 Theta :[[-2.26089216e-16]\n",
      " [ 9.73153413e-01]] Cost = 0.004888350958618251\n",
      "For Epoch 379 Theta :[[-2.26241693e-16]\n",
      " [ 9.73374960e-01]] Cost = 0.004883467133667078\n",
      "For Epoch 380 Theta :[[-2.26367963e-16]\n",
      " [ 9.73594296e-01]] Cost = 0.004878680358491328\n",
      "For Epoch 381 Theta :[[-2.26494233e-16]\n",
      " [ 9.73811441e-01]] Cost = 0.004873988704549538\n",
      "For Epoch 382 Theta :[[-2.26641945e-16]\n",
      " [ 9.74026417e-01]] Cost = 0.004869390281623595\n",
      "For Epoch 383 Theta :[[-2.26618120e-16]\n",
      " [ 9.74239247e-01]] Cost = 0.004864883237057179\n",
      "For Epoch 384 Theta :[[-2.26787274e-16]\n",
      " [ 9.74449952e-01]] Cost = 0.004860465755009355\n",
      "For Epoch 385 Theta :[[-2.27012813e-16]\n",
      " [ 9.74658553e-01]] Cost = 0.0048561360557229875\n",
      "For Epoch 386 Theta :[[-2.27204204e-16]\n",
      " [ 9.74865070e-01]] Cost = 0.004851892394807689\n",
      "For Epoch 387 Theta :[[-2.27371769e-16]\n",
      " [ 9.75069526e-01]] Cost = 0.004847733062537034\n",
      "For Epoch 388 Theta :[[-2.27517893e-16]\n",
      " [ 9.75271940e-01]] Cost = 0.004843656383159717\n",
      "For Epoch 389 Theta :[[-2.27650516e-16]\n",
      " [ 9.75472332e-01]] Cost = 0.004839660714224417\n",
      "For Epoch 390 Theta :[[-2.27784728e-16]\n",
      " [ 9.75670724e-01]] Cost = 0.004835744445918077\n",
      "For Epoch 391 Theta :[[-2.27918939e-16]\n",
      " [ 9.75867134e-01]] Cost = 0.004831906000417307\n",
      "For Epoch 392 Theta :[[-2.28031709e-16]\n",
      " [ 9.76061583e-01]] Cost = 0.004828143831252719\n",
      "For Epoch 393 Theta :[[-2.28204040e-16]\n",
      " [ 9.76254091e-01]] Cost = 0.004824456422685854\n",
      "For Epoch 394 Theta :[[-2.28297749e-16]\n",
      " [ 9.76444676e-01]] Cost = 0.004820842289098514\n",
      "For Epoch 395 Theta :[[-2.28441491e-16]\n",
      " [ 9.76633358e-01]] Cost = 0.004817299974394224\n",
      "For Epoch 396 Theta :[[-2.28523288e-16]\n",
      " [ 9.76820156e-01]] Cost = 0.004813828051411579\n",
      "For Epoch 397 Theta :[[-2.28677354e-16]\n",
      " [ 9.77005088e-01]] Cost = 0.0048104251213492615\n",
      "For Epoch 398 Theta :[[-2.28876686e-16]\n",
      " [ 9.77188174e-01]] Cost = 0.004807089813202478\n",
      "For Epoch 399 Theta :[[-2.28950542e-16]\n",
      " [ 9.77369432e-01]] Cost = 0.004803820783210592\n",
      "For Epoch 400 Theta :[[-2.29118902e-16]\n",
      " [ 9.77548880e-01]] Cost = 0.004800616714315746\n",
      "For Epoch 401 Theta :[[-2.29213406e-16]\n",
      " [ 9.77726535e-01]] Cost = 0.004797476315632217\n",
      "For Epoch 402 Theta :[[-2.29362706e-16]\n",
      " [ 9.77902417e-01]] Cost = 0.004794398321926347\n",
      "For Epoch 403 Theta :[[-2.29581097e-16]\n",
      " [ 9.78076543e-01]] Cost = 0.00479138149310679\n",
      "For Epoch 404 Theta :[[-2.29866992e-16]\n",
      " [ 9.78248929e-01]] Cost = 0.004788424613724888\n",
      "For Epoch 405 Theta :[[-2.30060765e-16]\n",
      " [ 9.78419595e-01]] Cost = 0.004785526492484982\n",
      "For Epoch 406 Theta :[[-2.30227536e-16]\n",
      " [ 9.78588556e-01]] Cost = 0.004782685961764453\n",
      "For Epoch 407 Theta :[[-2.30348247e-16]\n",
      " [ 9.78755829e-01]] Cost = 0.004779901877143295\n",
      "For Epoch 408 Theta :[[-2.30453075e-16]\n",
      " [ 9.78921433e-01]] Cost = 0.004777173116943047\n",
      "For Epoch 409 Theta :[[-2.30605552e-16]\n",
      " [ 9.79085383e-01]] Cost = 0.004774498581774872\n",
      "For Epoch 410 Theta :[[-2.30729440e-16]\n",
      " [ 9.79247696e-01]] Cost = 0.004771877194096628\n",
      "For Epoch 411 Theta :[[-2.30830297e-16]\n",
      " [ 9.79408387e-01]] Cost = 0.004769307897778747\n",
      "For Epoch 412 Theta :[[-2.30940684e-16]\n",
      " [ 9.79567475e-01]] Cost = 0.004766789657678715\n",
      "For Epoch 413 Theta :[[-2.31001039e-16]\n",
      " [ 9.79724973e-01]] Cost = 0.004764321459224035\n",
      "For Epoch 414 Theta :[[-2.31163046e-16]\n",
      " [ 9.79880899e-01]] Cost = 0.004761902308003463\n",
      "For Epoch 415 Theta :[[-2.31184488e-16]\n",
      " [ 9.80035268e-01]] Cost = 0.004759531229366371\n",
      "For Epoch 416 Theta :[[-2.31361584e-16]\n",
      " [ 9.80188096e-01]] Cost = 0.0047572072680300715\n",
      "For Epoch 417 Theta :[[-2.31370320e-16]\n",
      " [ 9.80339397e-01]] Cost = 0.004754929487694943\n",
      "For Epoch 418 Theta :[[-2.31455294e-16]\n",
      " [ 9.80489188e-01]] Cost = 0.004752696970667202\n",
      "For Epoch 419 Theta :[[-2.31539474e-16]\n",
      " [ 9.80637482e-01]] Cost = 0.004750508817489175\n",
      "For Epoch 420 Theta :[[-2.31688774e-16]\n",
      " [ 9.80784296e-01]] Cost = 0.0047483641465769204\n",
      "For Epoch 421 Theta :[[-2.31812662e-16]\n",
      " [ 9.80929644e-01]] Cost = 0.004746262093865046\n",
      "For Epoch 422 Theta :[[-2.31931784e-16]\n",
      " [ 9.81073541e-01]] Cost = 0.004744201812458585\n",
      "For Epoch 423 Theta :[[-2.31934167e-16]\n",
      " [ 9.81216000e-01]] Cost = 0.004742182472291788\n",
      "For Epoch 424 Theta :[[-2.32036612e-16]\n",
      " [ 9.81357037e-01]] Cost = 0.004740203259793704\n",
      "For Epoch 425 Theta :[[-2.32238326e-16]\n",
      " [ 9.81496666e-01]] Cost = 0.004738263377560395\n",
      "For Epoch 426 Theta :[[-2.3235189e-16]\n",
      " [ 9.8163490e-01]] Cost = 0.004736362044033679\n",
      "For Epoch 427 Theta :[[-2.32468630e-16]\n",
      " [ 9.81771754e-01]] Cost = 0.00473449849318624\n",
      "For Epoch 428 Theta :[[-2.32620313e-16]\n",
      " [ 9.81907242e-01]] Cost = 0.004732671974213005\n",
      "For Epoch 429 Theta :[[-2.32509926e-16]\n",
      " [ 9.82041376e-01]] Cost = 0.004730881751228658\n",
      "For Epoch 430 Theta :[[-2.32653667e-16]\n",
      " [ 9.82174171e-01]] Cost = 0.004729127102971155\n",
      "For Epoch 431 Theta :[[-2.3294115e-16]\n",
      " [ 9.8230564e-01]] Cost = 0.0047274073225111336\n",
      "For Epoch 432 Theta :[[-2.33114275e-16]\n",
      " [ 9.82435797e-01]] Cost = 0.004725721716967104\n",
      "For Epoch 433 Theta :[[-2.33308842e-16]\n",
      " [ 9.82564653e-01]] Cost = 0.004724069607226289\n",
      "For Epoch 434 Theta :[[-2.33470849e-16]\n",
      " [ 9.82692223e-01]] Cost = 0.004722450327671018\n",
      "For Epoch 435 Theta :[[-2.33629679e-16]\n",
      " [ 9.82818519e-01]] Cost = 0.004720863225910563\n",
      "For Epoch 436 Theta :[[-2.33747213e-16]\n",
      " [ 9.82943553e-01]] Cost = 0.004719307662518286\n",
      "For Epoch 437 Theta :[[-2.33884601e-16]\n",
      " [ 9.83067340e-01]] Cost = 0.004717783010774028\n",
      "For Epoch 438 Theta :[[-2.34030725e-16]\n",
      " [ 9.83189890e-01]] Cost = 0.004716288656411607\n",
      "For Epoch 439 Theta :[[-2.34219733e-16]\n",
      " [ 9.83311216e-01]] Cost = 0.0047148239973713426\n",
      "For Epoch 440 Theta :[[-2.34328532e-16]\n",
      " [ 9.83431331e-01]] Cost = 0.004713388443557481\n",
      "For Epoch 441 Theta :[[-2.34430183e-16]\n",
      " [ 9.83550246e-01]] Cost = 0.004711981416600468\n",
      "For Epoch 442 Theta :[[-2.34523099e-16]\n",
      " [ 9.83667974e-01]] Cost = 0.004710602349623913\n",
      "For Epoch 443 Theta :[[-2.34721637e-16]\n",
      " [ 9.83784527e-01]] Cost = 0.004709250687016208\n",
      "For Epoch 444 Theta :[[-2.34881261e-16]\n",
      " [ 9.83899915e-01]] Cost = 0.00470792588420668\n",
      "For Epoch 445 Theta :[[-2.35016267e-16]\n",
      " [ 9.84014151e-01]] Cost = 0.004706627407446189\n",
      "For Epoch 446 Theta :[[-2.34801052e-16]\n",
      " [ 9.84127247e-01]] Cost = 0.004705354733592079\n",
      "For Epoch 447 Theta :[[-2.34943999e-16]\n",
      " [ 9.84239213e-01]] Cost = 0.004704107349897416\n",
      "For Epoch 448 Theta :[[-2.35098064e-16]\n",
      " [ 9.84350061e-01]] Cost = 0.004702884753804406\n",
      "For Epoch 449 Theta :[[-2.35170332e-16]\n",
      " [ 9.84459803e-01]] Cost = 0.004701686452741918\n",
      "For Epoch 450 Theta :[[-2.35290249e-16]\n",
      " [ 9.84568448e-01]] Cost = 0.004700511963927036\n",
      "For Epoch 451 Theta :[[-2.35405400e-16]\n",
      " [ 9.84676008e-01]] Cost = 0.004699360814170551\n",
      "For Epoch 452 Theta :[[-2.35656352e-16]\n",
      " [ 9.84782495e-01]] Cost = 0.004698232539686306\n",
      "For Epoch 453 Theta :[[-2.35682559e-16]\n",
      " [ 9.84887918e-01]] Cost = 0.004697126685904363\n",
      "For Epoch 454 Theta :[[-2.35781034e-16]\n",
      " [ 9.84992288e-01]] Cost = 0.004696042807287839\n",
      "For Epoch 455 Theta :[[-2.35857669e-16]\n",
      " [ 9.85095616e-01]] Cost = 0.004694980467153422\n",
      "For Epoch 456 Theta :[[-2.36015308e-16]\n",
      " [ 9.85197913e-01]] Cost = 0.004693939237495424\n",
      "For Epoch 457 Theta :[[-2.36064943e-16]\n",
      " [ 9.85299188e-01]] Cost = 0.004692918698813348\n",
      "For Epoch 458 Theta :[[-2.36137211e-16]\n",
      " [ 9.85399451e-01]] Cost = 0.004691918439942874\n",
      "For Epoch 459 Theta :[[-2.36292864e-16]\n",
      " [ 9.85498714e-01]] Cost = 0.004690938057890204\n",
      "For Epoch 460 Theta :[[-2.36396898e-16]\n",
      " [ 9.85596985e-01]] Cost = 0.004689977157669703\n",
      "For Epoch 461 Theta :[[-2.36477504e-16]\n",
      " [ 9.85694275e-01]] Cost = 0.0046890353521447615\n",
      "For Epoch 462 Theta :[[-2.36638717e-16]\n",
      " [ 9.85790593e-01]] Cost = 0.004688112261871819\n",
      "For Epoch 463 Theta :[[-2.36826534e-16]\n",
      " [ 9.85885949e-01]] Cost = 0.0046872075149474975\n",
      "For Epoch 464 Theta :[[-2.36972260e-16]\n",
      " [ 9.85980354e-01]] Cost = 0.004686320746858761\n",
      "For Epoch 465 Theta :[[-2.37081456e-16]\n",
      " [ 9.86073815e-01]] Cost = 0.004685451600336056\n",
      "For Epoch 466 Theta :[[-2.37138238e-16]\n",
      " [ 9.86166344e-01]] Cost = 0.004684599725209375\n",
      "For Epoch 467 Theta :[[-2.37239095e-16]\n",
      " [ 9.86257948e-01]] Cost = 0.004683764778267171\n",
      "For Epoch 468 Theta :[[-2.37302627e-16]\n",
      " [ 9.86348638e-01]] Cost = 0.004682946423118089\n",
      "For Epoch 469 Theta :[[-2.37377674e-16]\n",
      " [ 9.86438422e-01]] Cost = 0.00468214433005543\n",
      "For Epoch 470 Theta :[[-2.37536505e-16]\n",
      " [ 9.86527309e-01]] Cost = 0.004681358175924322\n",
      "For Epoch 471 Theta :[[-2.37661186e-16]\n",
      " [ 9.86615309e-01]] Cost = 0.004680587643991518\n",
      "For Epoch 472 Theta :[[-2.37744572e-16]\n",
      " [ 9.86702431e-01]] Cost = 0.004679832423817791\n",
      "For Epoch 473 Theta :[[-2.37870842e-16]\n",
      " [ 9.86788682e-01]] Cost = 0.0046790922111328665\n",
      "For Epoch 474 Theta :[[-2.37822002e-16]\n",
      " [ 9.86874072e-01]] Cost = 0.004678366707712821\n",
      "For Epoch 475 Theta :[[-2.37883946e-16]\n",
      " [ 9.86958609e-01]] Cost = 0.004677655621259946\n",
      "For Epoch 476 Theta :[[-2.38030466e-16]\n",
      " [ 9.87042302e-01]] Cost = 0.004676958665284975\n",
      "For Epoch 477 Theta :[[-2.38115441e-16]\n",
      " [ 9.87125159e-01]] Cost = 0.004676275558991662\n",
      "For Epoch 478 Theta :[[-2.38190488e-16]\n",
      " [ 9.87207189e-01]] Cost = 0.004675606027163655\n",
      "For Epoch 479 Theta :[[-2.38279433e-16]\n",
      " [ 9.87288400e-01]] Cost = 0.004674949800053608\n",
      "For Epoch 480 Theta :[[-2.38330655e-16]\n",
      " [ 9.87368800e-01]] Cost = 0.004674306613274509\n",
      "For Epoch 481 Theta :[[-2.38437469e-16]\n",
      " [ 9.87448397e-01]] Cost = 0.004673676207693159\n",
      "For Epoch 482 Theta :[[-2.38580019e-16]\n",
      " [ 9.87527199e-01]] Cost = 0.004673058329325765\n",
      "For Epoch 483 Theta :[[-2.38703906e-16]\n",
      " [ 9.87605215e-01]] Cost = 0.004672452729235623\n",
      "For Epoch 484 Theta :[[-2.38825809e-16]\n",
      " [ 9.87682451e-01]] Cost = 0.004671859163432814\n",
      "For Epoch 485 Theta :[[-2.38879017e-16]\n",
      " [ 9.87758916e-01]] Cost = 0.004671277392775905\n",
      "For Epoch 486 Theta :[[-2.38969947e-16]\n",
      " [ 9.87834617e-01]] Cost = 0.004670707182875611\n",
      "For Epoch 487 Theta :[[-2.39063260e-16]\n",
      " [ 9.87909563e-01]] Cost = 0.004670148304000347\n",
      "For Epoch 488 Theta :[[-2.39143072e-16]\n",
      " [ 9.87983760e-01]] Cost = 0.004669600530983684\n",
      "For Epoch 489 Theta :[[-2.39213354e-16]\n",
      " [ 9.88057216e-01]] Cost = 0.004669063643133622\n",
      "For Epoch 490 Theta :[[-2.39269739e-16]\n",
      " [ 9.88129939e-01]] Cost = 0.004668537424143684\n",
      "For Epoch 491 Theta :[[-2.39334462e-16]\n",
      " [ 9.88201936e-01]] Cost = 0.004668021662005766\n",
      "For Epoch 492 Theta :[[-2.39422216e-16]\n",
      " [ 9.88273213e-01]] Cost = 0.004667516148924714\n",
      "For Epoch 493 Theta :[[-2.39448423e-16]\n",
      " [ 9.88343779e-01]] Cost = 0.004667020681234617\n",
      "For Epoch 494 Theta :[[-2.39530618e-16]\n",
      " [ 9.88413640e-01]] Cost = 0.004666535059316745\n",
      "For Epoch 495 Theta :[[-2.39581046e-16]\n",
      " [ 9.88482804e-01]] Cost = 0.004666059087519125\n",
      "For Epoch 496 Theta :[[-2.39701757e-16]\n",
      " [ 9.88551277e-01]] Cost = 0.0046655925740777164\n",
      "For Epoch 497 Theta :[[-2.39842719e-16]\n",
      " [ 9.88619066e-01]] Cost = 0.004665135331039154\n",
      "For Epoch 498 Theta :[[-2.40072626e-16]\n",
      " [ 9.88686178e-01]] Cost = 0.004664687174185016\n",
      "For Epoch 499 Theta :[[-2.40165938e-16]\n",
      " [ 9.88752620e-01]] Cost = 0.004664247922957612\n",
      "Final theta values : [[-2.40165938e-16]\n",
      " [ 9.88752620e-01]]\n",
      "h(x) =-0.0 + 0.99x1\n"
     ]
    }
   ],
   "source": [
    "alpha= 0.01\n",
    "epochs= 500\n",
    "theta,J_history= gradientDescent(x_train,y_train,theta,alpha,epochs)\n",
    "print(f\"Final theta values : {theta}\")\n",
    "print(\"h(x) =\"+str(round(theta[0,0],2))+\" + \"+str(round(theta[1,0],2))+\"x1\")"
   ]
  },
  {
   "attachments": {},
   "cell_type": "markdown",
   "metadata": {},
   "source": [
    "### Plotting the cost function against the number of iterations\n",
    "It gave a nice descending trend, indicating that the gradient descent implementation works in reducing the cost function"
   ]
  },
  {
   "cell_type": "code",
   "execution_count": 436,
   "metadata": {},
   "outputs": [
    {
     "data": {
      "text/plain": [
       "Text(0.5, 1.0, 'Cost function using Gradient Descent')"
      ]
     },
     "execution_count": 436,
     "metadata": {},
     "output_type": "execute_result"
    },
    {
     "data": {
      "image/png": "[encoded data removed]",
      "text/plain": [
       "<Figure size 640x480 with 1 Axes>"
      ]
     },
     "metadata": {},
     "output_type": "display_data"
    }
   ],
   "source": [
    "plt.plot(J_history)\n",
    "plt.xlabel(\"Iteration\")\n",
    "plt.ylabel(\"$J(\\Theta)$\")\n",
    "plt.title(\"Cost function using Gradient Descent\")"
   ]
  },
  {
   "attachments": {},
   "cell_type": "markdown",
   "metadata": {},
   "source": [
    "### Ploting data points with best fit line"
   ]
  },
  {
   "cell_type": "code",
   "execution_count": 453,
   "metadata": {},
   "outputs": [
    {
     "data": {
      "text/plain": [
       "Text(0.5, 1.0, 'Ploting data points with best fit line')"
      ]
     },
     "execution_count": 453,
     "metadata": {},
     "output_type": "execute_result"
    },
    {
     "data": {
      "image/png": "[encoded data removed]",
      "text/plain": [
       "<Figure size 640x480 with 1 Axes>"
      ]
     },
     "metadata": {},
     "output_type": "display_data"
    }
   ],
   "source": [
    "plt.scatter(data.x,data.y)\n",
    "x_value=[x for x in range(-40,70)]\n",
    "y_value=[y*theta[1]+theta[0] for y in x_value]\n",
    "plt.plot(x_value,y_value,color=\"r\")\n",
    "plt.xticks(np.arange(-50,100,step=25))\n",
    "plt.yticks(np.arange(-50,100,step=25))\n",
    "plt.xlabel(\"X-values\")\n",
    "plt.ylabel(\"Y-values\")\n",
    "plt.title(\"Ploting data points with best fit line\")"
   ]
  },
  {
   "attachments": {},
   "cell_type": "markdown",
   "metadata": {},
   "source": [
    "### Implementing Performance Metrices to check the goodness of the model with test Data set"
   ]
  },
  {
   "attachments": {},
   "cell_type": "markdown",
   "metadata": {},
   "source": [
    "Importing Test DataSet"
   ]
  },
  {
   "cell_type": "code",
   "execution_count": 438,
   "metadata": {},
   "outputs": [],
   "source": [
    "test_data = pd.read_csv('test.csv')"
   ]
  },
  {
   "attachments": {},
   "cell_type": "markdown",
   "metadata": {},
   "source": [
    "### Feature Scaling for Test data"
   ]
  },
  {
   "cell_type": "code",
   "execution_count": 439,
   "metadata": {},
   "outputs": [],
   "source": [
    "x_list = feature_standarization(test_data,'x')\n",
    "y_list = feature_standarization(test_data,'y')\n",
    "test_data.drop(['x','y'],axis=1,inplace=True)\n",
    "test_data.insert(loc=0, column=\"x_test\", value=x_list)\n",
    "test_data.insert(loc=1, column=\"y_test\", value=y_list)"
   ]
  },
  {
   "cell_type": "code",
   "execution_count": 440,
   "metadata": {},
   "outputs": [
    {
     "data": {
      "text/html": [
       "<div>\n",
       "<style scoped>\n",
       "    .dataframe tbody tr th:only-of-type {\n",
       "        vertical-align: middle;\n",
       "    }\n",
       "\n",
       "    .dataframe tbody tr th {\n",
       "        vertical-align: top;\n",
       "    }\n",
       "\n",
       "    .dataframe thead th {\n",
       "        text-align: right;\n",
       "    }\n",
       "</style>\n",
       "<table border=\"1\" class=\"dataframe\">\n",
       "  <thead>\n",
       "    <tr style=\"text-align: right;\">\n",
       "      <th></th>\n",
       "      <th>x_test</th>\n",
       "      <th>y_test</th>\n",
       "    </tr>\n",
       "  </thead>\n",
       "  <tbody>\n",
       "    <tr>\n",
       "      <th>0</th>\n",
       "      <td>0.914365</td>\n",
       "      <td>0.982754</td>\n",
       "    </tr>\n",
       "    <tr>\n",
       "      <th>1</th>\n",
       "      <td>-1.050251</td>\n",
       "      <td>-0.964099</td>\n",
       "    </tr>\n",
       "    <tr>\n",
       "      <th>2</th>\n",
       "      <td>-1.015169</td>\n",
       "      <td>-0.880443</td>\n",
       "    </tr>\n",
       "    <tr>\n",
       "      <th>3</th>\n",
       "      <td>-1.085334</td>\n",
       "      <td>-1.147092</td>\n",
       "    </tr>\n",
       "    <tr>\n",
       "      <th>4</th>\n",
       "      <td>-0.524015</td>\n",
       "      <td>-0.321799</td>\n",
       "    </tr>\n",
       "    <tr>\n",
       "      <th>...</th>\n",
       "      <td>...</td>\n",
       "      <td>...</td>\n",
       "    </tr>\n",
       "    <tr>\n",
       "      <th>295</th>\n",
       "      <td>0.703871</td>\n",
       "      <td>0.596490</td>\n",
       "    </tr>\n",
       "    <tr>\n",
       "      <th>296</th>\n",
       "      <td>-0.173190</td>\n",
       "      <td>-0.133126</td>\n",
       "    </tr>\n",
       "    <tr>\n",
       "      <th>297</th>\n",
       "      <td>0.142552</td>\n",
       "      <td>0.099258</td>\n",
       "    </tr>\n",
       "    <tr>\n",
       "      <th>298</th>\n",
       "      <td>0.388129</td>\n",
       "      <td>0.415944</td>\n",
       "    </tr>\n",
       "    <tr>\n",
       "      <th>299</th>\n",
       "      <td>-0.138108</td>\n",
       "      <td>0.043149</td>\n",
       "    </tr>\n",
       "  </tbody>\n",
       "</table>\n",
       "<p>300 rows × 2 columns</p>\n",
       "</div>"
      ],
      "text/plain": [
       "       x_test    y_test\n",
       "0    0.914365  0.982754\n",
       "1   -1.050251 -0.964099\n",
       "2   -1.015169 -0.880443\n",
       "3   -1.085334 -1.147092\n",
       "4   -0.524015 -0.321799\n",
       "..        ...       ...\n",
       "295  0.703871  0.596490\n",
       "296 -0.173190 -0.133126\n",
       "297  0.142552  0.099258\n",
       "298  0.388129  0.415944\n",
       "299 -0.138108  0.043149\n",
       "\n",
       "[300 rows x 2 columns]"
      ]
     },
     "execution_count": 440,
     "metadata": {},
     "output_type": "execute_result"
    }
   ],
   "source": [
    "test_data"
   ]
  },
  {
   "cell_type": "code",
   "execution_count": 441,
   "metadata": {},
   "outputs": [
    {
     "name": "stdout",
     "output_type": "stream",
     "text": [
      "[[0.9040812107555901], [-1.0384388481642102], [-1.0037509899692136], [-1.0731267063592065], [-0.5181209752392636], [-1.2465659973341887], [0.3837633378306436], [1.5284626582655259], [-1.0731267063592065], [-1.593444579284153], [-1.6281324374791495], [-1.107814564554203], [1.5631505164605222], [0.3837633378306436], [-0.5181209752392636], [-1.2465659973341887], [0.48782691241563286], [-1.281253855529185], [1.2509597927055542], [0.6265783451956186], [1.320335509095547], [0.002196897685682841], [1.320335509095547], [-0.8303116989942315], [1.5978383746555187], [0.24501190505065784], [0.973456927145583], [-1.0384388481642102], [1.459086941875533], [-0.8303116989942315], [1.6672140910455115], [-0.6915602662142457], [-0.6221845498242529], [1.0081447853405794], [-0.7956238407992351], [-0.1365545350943029], [0.07157261407567571], [0.6265783451956186], [-0.7956238407992351], [-0.6221845498242529], [1.3897112254855402], [0.6959540615856115], [-0.03249096050931359], [0.8693933525605937], [-1.6281324374791495], [-0.48343311704426717], [0.661266203390615], [0.5918904870006222], [-0.3793695424592779], [-0.55280883343426], [1.4937748000705293], [1.2856476509005508], [0.03688475588067927], [-0.6915602662142457], [0.27969976324565426], [-1.7668838702591352], [-0.41405740065427427], [0.45313905422063644], [0.6265783451956186], [0.21032404685566142], [-1.3159417137241816], [0.7306419197806079], [0.8693933525605937], [0.34907547963564717], [1.0775205017305722], [-1.1425024227491993], [-0.3446816842642815], [-0.03249096050931359], [0.14094833046566854], [-1.3159417137241816], [-0.17124239328929933], [-1.3159417137241816], [0.973456927145583], [0.07157261407567571], [-1.2465659973341887], [-0.7956238407992351], [1.0428326435355757], [0.6265783451956186], [0.03688475588067927], [1.146896218120565], [0.5918904870006222], [-0.8303116989942315], [0.175636188660665], [-0.10186667689930645], [-0.3793695424592779], [-0.41405740065427427], [1.0775205017305722], [1.7019019492405079], [0.27969976324565426], [-0.2753059678742886], [0.5572026288056258], [-0.4487452588492707], [0.41845119602564], [1.3897112254855402], [0.31438762144065074], [-1.281253855529185], [-1.0384388481642102], [1.2509597927055542], [0.7653297779756043], [-0.6568724080192493], [-1.6975081538691423], [1.0775205017305722], [-1.107814564554203], [0.8000176361706008], [-0.30999382606928505], [-1.350629571919178], [-1.7321960120641389], [1.3550233672905436], [1.320335509095547], [-1.7668838702591352], [-0.3446816842642815], [-1.2118781391391922], [1.4937748000705293], [1.5978383746555187], [0.5225147706106293], [-0.9343752735792208], [-1.1771902809441959], [1.3550233672905436], [-1.3159417137241816], [-1.7668838702591352], [0.45313905422063644], [1.5631505164605222], [1.632526232850515], [-1.350629571919178], [-0.3446816842642815], [-0.1365545350943029], [0.9387690689505865], [-1.0731267063592065], [1.320335509095547], [-0.7609359826042387], [0.45313905422063644], [0.8347054943655973], [-1.350629571919178], [-0.8996874153842244], [-0.7956238407992351], [-0.7262481244092421], [0.48782691241563286], [0.27969976324565426], [0.45313905422063644], [0.07157261407567571], [0.6959540615856115], [1.5978383746555187], [0.7653297779756043], [-1.4546931465041673], [-1.350629571919178], [0.41845119602564], [1.6672140910455115], [0.31438762144065074], [-0.55280883343426], [-1.6975081538691423], [0.31438762144065074], [-0.6568724080192493], [1.4937748000705293], [1.146896218120565], [0.41845119602564], [-1.0037509899692136], [1.0428326435355757], [1.459086941875533], [-0.6221845498242529], [-1.52406886289416], [-0.30999382606928505], [-0.17124239328929933], [0.10626047227067215], [-1.2118781391391922], [-0.06717881870431001], [-0.2753059678742886], [1.5284626582655259], [0.5225147706106293], [-1.0384388481642102], [-0.55280883343426], [1.0081447853405794], [-0.48343311704426717], [0.10626047227067215], [0.175636188660665], [-1.7321960120641389], [-0.6568724080192493], [0.24501190505065784], [-0.6568724080192493], [-0.17124239328929933], [0.7306419197806079], [-1.1771902809441959], [1.5978383746555187], [1.459086941875533], [1.3897112254855402], [-0.48343311704426717], [-1.6281324374791495], [0.10626047227067215], [0.002196897685682841], [-0.8303116989942315], [-0.17124239328929933], [1.4243990836805365], [0.7653297779756043], [0.9040812107555901], [1.3897112254855402], [0.34907547963564717], [1.6672140910455115], [-1.6281324374791495], [0.7306419197806079], [-1.107814564554203], [0.21032404685566142], [0.9387690689505865], [-0.8649995571892279], [0.8000176361706008], [1.3550233672905436], [0.5225147706106293], [-1.3159417137241816], [-0.3793695424592779], [0.9040812107555901], [0.5572026288056258], [0.8347054943655973], [-0.9690631317742172], [-0.20593025148429575], [0.27969976324565426], [-0.2406181096792922], [-0.9690631317742172], [0.14094833046566854], [0.14094833046566854], [1.5284626582655259], [-1.350629571919178], [-1.6281324374791495], [-1.52406886289416], [1.7019019492405079], [-0.10186667689930645], [-0.30999382606928505], [1.5631505164605222], [-0.41405740065427427], [1.7019019492405079], [1.2509597927055542], [-1.281253855529185], [-1.281253855529185], [-0.48343311704426717], [-1.593444579284153], [1.2856476509005508], [1.3897112254855402], [0.48782691241563286], [0.8000176361706008], [0.175636188660665], [-1.2118781391391922], [-1.593444579284153], [-0.7956238407992351], [1.4243990836805365], [-0.17124239328929933], [0.10626047227067215], [-0.41405740065427427], [-0.2406181096792922], [-0.6915602662142457], [0.5918904870006222], [1.216271934510558], [1.3550233672905436], [-0.4487452588492707], [-1.0384388481642102], [1.5284626582655259], [0.175636188660665], [0.31438762144065074], [0.48782691241563286], [0.9387690689505865], [1.320335509095547], [-1.5587567210891566], [0.5572026288056258], [-0.5181209752392636], [-1.2118781391391922], [1.7019019492405079], [-0.20593025148429575], [0.7653297779756043], [0.21032404685566142], [-1.0731267063592065], [0.8693933525605937], [-0.5874966916292564], [0.14094833046566854], [0.7306419197806079], [0.14094833046566854], [-1.4893810046991638], [0.175636188660665], [0.7306419197806079], [0.24501190505065784], [-1.5587567210891566], [1.5631505164605222], [-0.9690631317742172], [0.24501190505065784], [-0.9690631317742172], [-1.107814564554203], [-0.8996874153842244], [0.45313905422063644], [-1.0384388481642102], [0.27969976324565426], [-1.107814564554203], [-1.2118781391391922], [-0.30999382606928505], [-0.2753059678742886], [0.34907547963564717], [1.4243990836805365], [-1.3853174301141744], [-0.3446816842642815], [-1.7321960120641389], [-1.4893810046991638], [0.6959540615856115], [-0.17124239328929933], [0.14094833046566854], [0.3837633378306436], [-0.1365545350943029]]\n"
     ]
    }
   ],
   "source": [
    "y_pred=[(item*theta[1]+theta[0]).tolist() for item in test_data['x_test']]\n",
    "print(y_pred)"
   ]
  },
  {
   "cell_type": "code",
   "execution_count": 442,
   "metadata": {},
   "outputs": [
    {
     "data": {
      "text/html": [
       "<div>\n",
       "<style scoped>\n",
       "    .dataframe tbody tr th:only-of-type {\n",
       "        vertical-align: middle;\n",
       "    }\n",
       "\n",
       "    .dataframe tbody tr th {\n",
       "        vertical-align: top;\n",
       "    }\n",
       "\n",
       "    .dataframe thead th {\n",
       "        text-align: right;\n",
       "    }\n",
       "</style>\n",
       "<table border=\"1\" class=\"dataframe\">\n",
       "  <thead>\n",
       "    <tr style=\"text-align: right;\">\n",
       "      <th></th>\n",
       "      <th>x_test</th>\n",
       "      <th>y_test</th>\n",
       "    </tr>\n",
       "  </thead>\n",
       "  <tbody>\n",
       "    <tr>\n",
       "      <th>0</th>\n",
       "      <td>0.914365</td>\n",
       "      <td>0.982754</td>\n",
       "    </tr>\n",
       "    <tr>\n",
       "      <th>1</th>\n",
       "      <td>-1.050251</td>\n",
       "      <td>-0.964099</td>\n",
       "    </tr>\n",
       "    <tr>\n",
       "      <th>2</th>\n",
       "      <td>-1.015169</td>\n",
       "      <td>-0.880443</td>\n",
       "    </tr>\n",
       "    <tr>\n",
       "      <th>3</th>\n",
       "      <td>-1.085334</td>\n",
       "      <td>-1.147092</td>\n",
       "    </tr>\n",
       "    <tr>\n",
       "      <th>4</th>\n",
       "      <td>-0.524015</td>\n",
       "      <td>-0.321799</td>\n",
       "    </tr>\n",
       "  </tbody>\n",
       "</table>\n",
       "</div>"
      ],
      "text/plain": [
       "     x_test    y_test\n",
       "0  0.914365  0.982754\n",
       "1 -1.050251 -0.964099\n",
       "2 -1.015169 -0.880443\n",
       "3 -1.085334 -1.147092\n",
       "4 -0.524015 -0.321799"
      ]
     },
     "execution_count": 442,
     "metadata": {},
     "output_type": "execute_result"
    }
   ],
   "source": [
    "test_data.head()"
   ]
  },
  {
   "cell_type": "code",
   "execution_count": 443,
   "metadata": {},
   "outputs": [],
   "source": [
    "x_test=test_data['x_test']\n",
    "y_test=test_data['y_test']"
   ]
  },
  {
   "attachments": {},
   "cell_type": "markdown",
   "metadata": {},
   "source": [
    "### Mean Square Error"
   ]
  },
  {
   "cell_type": "code",
   "execution_count": 444,
   "metadata": {},
   "outputs": [
    {
     "name": "stdout",
     "output_type": "stream",
     "text": [
      "The Mean Square Error is:  [0.01087682]\n"
     ]
    }
   ],
   "source": [
    "summation = 0  #variable to store the summation of differences\n",
    "n = len(x_test) #finding total number of items in list\n",
    "for i in range (0,n):  #looping through each element of the list\n",
    "  difference = y_test[i] - y_pred[i]  #finding the difference between observed and predicted value\n",
    "  squared_difference = difference**2  #taking square of the differene \n",
    "  summation = summation + squared_difference  #taking a sum of all the differences\n",
    "MSE = summation/n  #dividing summation by total values to obtain average\n",
    "print (\"The Mean Square Error is: \" , MSE)"
   ]
  },
  {
   "attachments": {},
   "cell_type": "markdown",
   "metadata": {},
   "source": [
    "### Mean Absolute Error"
   ]
  },
  {
   "cell_type": "code",
   "execution_count": 445,
   "metadata": {},
   "outputs": [
    {
     "name": "stdout",
     "output_type": "stream",
     "text": [
      "Mean absolute error : [0.08281039]\n"
     ]
    }
   ],
   "source": [
    "# Calculating Mean Absolute Error  \n",
    "n = len(x_test)\n",
    "sum = 0  \n",
    "# for loop for iteration\n",
    "for i in range(n):\n",
    "    sum += abs(y_test[i] - y_pred[i])\n",
    "  \n",
    "error = sum/n\n",
    "  \n",
    "# display\n",
    "print(\"Mean absolute error : \" + str(error))"
   ]
  },
  {
   "attachments": {},
   "cell_type": "markdown",
   "metadata": {},
   "source": [
    "### Root Mean Square Error"
   ]
  },
  {
   "cell_type": "code",
   "execution_count": 446,
   "metadata": {},
   "outputs": [
    {
     "name": "stdout",
     "output_type": "stream",
     "text": [
      "Root Mean Square Error:\n",
      "\n",
      "[0.10429198]\n"
     ]
    }
   ],
   "source": [
    "n = len(x_test)\n",
    "sum=0\n",
    "for i in range(n):\n",
    "    squared_diff = (y_test[i]-y_pred[i])**2\n",
    "    sum+= squared_diff\n",
    "error = sum/n\n",
    "error=error**0.5 \n",
    "\n",
    "print(\"Root Mean Square Error:\\n\")\n",
    "print(error)"
   ]
  },
  {
   "attachments": {},
   "cell_type": "markdown",
   "metadata": {},
   "source": [
    "### calculating R-squared value for measuring goodness of our model. "
   ]
  },
  {
   "cell_type": "code",
   "execution_count": 447,
   "metadata": {},
   "outputs": [
    {
     "name": "stdout",
     "output_type": "stream",
     "text": [
      "[0.98908681]\n"
     ]
    }
   ],
   "source": [
    "# calculating R-squared value for measuring goodness of our model. \n",
    "mean_y = np.mean(y_test)\n",
    "ss_t = 0 #total sum of squares\n",
    "ss_r = 0 #total sum of square of residuals\n",
    "for i in range(len(y_test)): # val_count represents the no.of input x values\n",
    "  \n",
    "  ss_t += (y_test[i] - mean_y) ** 2\n",
    "  ss_r += (y_test[i] - y_pred[i]) ** 2\n",
    "r2 = 1 - (ss_r/ss_t)\n",
    "\n",
    "print(r2)"
   ]
  },
  {
   "attachments": {},
   "cell_type": "markdown",
   "metadata": {},
   "source": [
    "### Adjusted R-Square \n",
    "Here,\n",
    "N = number of records in the data set.\n",
    "p = number of independent variables."
   ]
  },
  {
   "cell_type": "code",
   "execution_count": 448,
   "metadata": {},
   "outputs": [
    {
     "name": "stdout",
     "output_type": "stream",
     "text": [
      "Adjusted-R2 :  [0.98905018]\n"
     ]
    }
   ],
   "source": [
    "#calculate r-squared\n",
    "N=len(x_test)\n",
    "p=1\n",
    "x = (1-r2)\n",
    "y = (N-1) / (N-p-1)\n",
    "adj_rsquared = (1 - (x * y))\n",
    "print(\"Adjusted-R2 : \" , adj_rsquared)"
   ]
  }
 ],
 "metadata": {
  "colab": {
   "authorship_tag": "ABX9TyO5ZQQwux8Qq9+yJnpFXkKD",
   "collapsed_sections": [],
   "name": "1_Linear_Regression_using_gradient_descent.ipynb",
   "provenance": []
  },
  "kernelspec": {
   "display_name": "Python 3",
   "language": "python",
   "name": "python3"
  },
  "language_info": {
   "codemirror_mode": {
    "name": "ipython",
    "version": 3
   },
   "file_extension": ".py",
   "mimetype": "text/x-python",
   "name": "python",
   "nbconvert_exporter": "python",
   "pygments_lexer": "ipython3",
   "version": "3.11.0 (main, Oct 24 2022, 18:26:48) [MSC v.1933 64 bit (AMD64)]"
  },
  "vscode": {
   "interpreter": {
    "hash": "c261aea317cc0286b3b3261fbba9abdec21eaa57589985bb7a274bf54d6cc0a7"
   }
  }
 },
 "nbformat": 4,
 "nbformat_minor": 0
}
